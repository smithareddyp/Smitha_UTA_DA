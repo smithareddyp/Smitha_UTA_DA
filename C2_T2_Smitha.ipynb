{
 "cells": [
  {
   "cell_type": "markdown",
   "metadata": {},
   "source": [
    "## Credit One Task 2- Pipeline - Smitha Palampalli\n",
    "\n",
    "\n",
    "Updated: 2020.09.15\n"
   ]
  },
  {
   "cell_type": "markdown",
   "metadata": {},
   "source": [
    "#### The objective of this task is to perform Exploratory Data Analysis (EDA) on Credit One data to identify features that can be used for modelling and prediction. The EDA will also help understand the data, identify patterns in the data and identify any relationships between the various features, if present."
   ]
  },
  {
   "cell_type": "markdown",
   "metadata": {},
   "source": [
    "## Importing Packages"
   ]
  },
  {
   "cell_type": "code",
   "execution_count": 4,
   "metadata": {},
   "outputs": [],
   "source": [
    "import numpy as np\n",
    "import pandas as pd\n",
    "import matplotlib.pyplot as plt\n",
    "import seaborn as sns\n",
    "import pandas_profiling"
   ]
  },
  {
   "cell_type": "markdown",
   "metadata": {},
   "source": [
    "## Importing Data"
   ]
  },
  {
   "cell_type": "code",
   "execution_count": 5,
   "metadata": {},
   "outputs": [],
   "source": [
    "# Import previously pre-processed and cleaned data from task 1 that was saved into a CSV\n",
    "credit = pd.read_csv('Credit_One_Data.csv')"
   ]
  },
  {
   "cell_type": "markdown",
   "metadata": {},
   "source": [
    "## Evaluating Data "
   ]
  },
  {
   "cell_type": "code",
   "execution_count": 6,
   "metadata": {},
   "outputs": [
    {
     "data": {
      "text/html": [
       "<div>\n",
       "<style scoped>\n",
       "    .dataframe tbody tr th:only-of-type {\n",
       "        vertical-align: middle;\n",
       "    }\n",
       "\n",
       "    .dataframe tbody tr th {\n",
       "        vertical-align: top;\n",
       "    }\n",
       "\n",
       "    .dataframe thead th {\n",
       "        text-align: right;\n",
       "    }\n",
       "</style>\n",
       "<table border=\"1\" class=\"dataframe\">\n",
       "  <thead>\n",
       "    <tr style=\"text-align: right;\">\n",
       "      <th></th>\n",
       "      <th>Unnamed: 0</th>\n",
       "      <th>ID</th>\n",
       "      <th>LIMIT_BAL</th>\n",
       "      <th>SEX</th>\n",
       "      <th>EDUCATION</th>\n",
       "      <th>MARRIAGE</th>\n",
       "      <th>AGE</th>\n",
       "      <th>PAY_0</th>\n",
       "      <th>PAY_2</th>\n",
       "      <th>PAY_3</th>\n",
       "      <th>...</th>\n",
       "      <th>PAY_AMT2</th>\n",
       "      <th>PAY_AMT3</th>\n",
       "      <th>PAY_AMT4</th>\n",
       "      <th>PAY_AMT5</th>\n",
       "      <th>PAY_AMT6</th>\n",
       "      <th>default payment next month</th>\n",
       "      <th>SEX_ID</th>\n",
       "      <th>EDUCATION_ID</th>\n",
       "      <th>MARRIAGE_LABEL</th>\n",
       "      <th>PMT_DEFAULT_IND</th>\n",
       "    </tr>\n",
       "  </thead>\n",
       "  <tbody>\n",
       "    <tr>\n",
       "      <th>0</th>\n",
       "      <td>1</td>\n",
       "      <td>1</td>\n",
       "      <td>20000</td>\n",
       "      <td>female</td>\n",
       "      <td>university</td>\n",
       "      <td>1</td>\n",
       "      <td>24</td>\n",
       "      <td>2</td>\n",
       "      <td>2</td>\n",
       "      <td>-1</td>\n",
       "      <td>...</td>\n",
       "      <td>689</td>\n",
       "      <td>0</td>\n",
       "      <td>0</td>\n",
       "      <td>0</td>\n",
       "      <td>0</td>\n",
       "      <td>default</td>\n",
       "      <td>0</td>\n",
       "      <td>3</td>\n",
       "      <td>Married</td>\n",
       "      <td>0</td>\n",
       "    </tr>\n",
       "    <tr>\n",
       "      <th>1</th>\n",
       "      <td>2</td>\n",
       "      <td>2</td>\n",
       "      <td>120000</td>\n",
       "      <td>female</td>\n",
       "      <td>university</td>\n",
       "      <td>2</td>\n",
       "      <td>26</td>\n",
       "      <td>-1</td>\n",
       "      <td>2</td>\n",
       "      <td>0</td>\n",
       "      <td>...</td>\n",
       "      <td>1000</td>\n",
       "      <td>1000</td>\n",
       "      <td>1000</td>\n",
       "      <td>0</td>\n",
       "      <td>2000</td>\n",
       "      <td>default</td>\n",
       "      <td>0</td>\n",
       "      <td>3</td>\n",
       "      <td>Single</td>\n",
       "      <td>0</td>\n",
       "    </tr>\n",
       "    <tr>\n",
       "      <th>2</th>\n",
       "      <td>3</td>\n",
       "      <td>3</td>\n",
       "      <td>90000</td>\n",
       "      <td>female</td>\n",
       "      <td>university</td>\n",
       "      <td>2</td>\n",
       "      <td>34</td>\n",
       "      <td>0</td>\n",
       "      <td>0</td>\n",
       "      <td>0</td>\n",
       "      <td>...</td>\n",
       "      <td>1500</td>\n",
       "      <td>1000</td>\n",
       "      <td>1000</td>\n",
       "      <td>1000</td>\n",
       "      <td>5000</td>\n",
       "      <td>not default</td>\n",
       "      <td>0</td>\n",
       "      <td>3</td>\n",
       "      <td>Single</td>\n",
       "      <td>1</td>\n",
       "    </tr>\n",
       "    <tr>\n",
       "      <th>3</th>\n",
       "      <td>4</td>\n",
       "      <td>4</td>\n",
       "      <td>50000</td>\n",
       "      <td>female</td>\n",
       "      <td>university</td>\n",
       "      <td>1</td>\n",
       "      <td>37</td>\n",
       "      <td>0</td>\n",
       "      <td>0</td>\n",
       "      <td>0</td>\n",
       "      <td>...</td>\n",
       "      <td>2019</td>\n",
       "      <td>1200</td>\n",
       "      <td>1100</td>\n",
       "      <td>1069</td>\n",
       "      <td>1000</td>\n",
       "      <td>not default</td>\n",
       "      <td>0</td>\n",
       "      <td>3</td>\n",
       "      <td>Married</td>\n",
       "      <td>1</td>\n",
       "    </tr>\n",
       "    <tr>\n",
       "      <th>4</th>\n",
       "      <td>5</td>\n",
       "      <td>5</td>\n",
       "      <td>50000</td>\n",
       "      <td>male</td>\n",
       "      <td>university</td>\n",
       "      <td>1</td>\n",
       "      <td>57</td>\n",
       "      <td>-1</td>\n",
       "      <td>0</td>\n",
       "      <td>-1</td>\n",
       "      <td>...</td>\n",
       "      <td>36681</td>\n",
       "      <td>10000</td>\n",
       "      <td>9000</td>\n",
       "      <td>689</td>\n",
       "      <td>679</td>\n",
       "      <td>not default</td>\n",
       "      <td>1</td>\n",
       "      <td>3</td>\n",
       "      <td>Married</td>\n",
       "      <td>1</td>\n",
       "    </tr>\n",
       "  </tbody>\n",
       "</table>\n",
       "<p>5 rows × 30 columns</p>\n",
       "</div>"
      ],
      "text/plain": [
       "   Unnamed: 0  ID  LIMIT_BAL     SEX   EDUCATION  MARRIAGE  AGE  PAY_0  PAY_2  \\\n",
       "0           1   1      20000  female  university         1   24      2      2   \n",
       "1           2   2     120000  female  university         2   26     -1      2   \n",
       "2           3   3      90000  female  university         2   34      0      0   \n",
       "3           4   4      50000  female  university         1   37      0      0   \n",
       "4           5   5      50000    male  university         1   57     -1      0   \n",
       "\n",
       "   PAY_3  ...  PAY_AMT2  PAY_AMT3  PAY_AMT4  PAY_AMT5  PAY_AMT6  \\\n",
       "0     -1  ...       689         0         0         0         0   \n",
       "1      0  ...      1000      1000      1000         0      2000   \n",
       "2      0  ...      1500      1000      1000      1000      5000   \n",
       "3      0  ...      2019      1200      1100      1069      1000   \n",
       "4     -1  ...     36681     10000      9000       689       679   \n",
       "\n",
       "   default payment next month  SEX_ID  EDUCATION_ID  MARRIAGE_LABEL  \\\n",
       "0                     default       0             3         Married   \n",
       "1                     default       0             3          Single   \n",
       "2                 not default       0             3          Single   \n",
       "3                 not default       0             3         Married   \n",
       "4                 not default       1             3         Married   \n",
       "\n",
       "   PMT_DEFAULT_IND  \n",
       "0                0  \n",
       "1                0  \n",
       "2                1  \n",
       "3                1  \n",
       "4                1  \n",
       "\n",
       "[5 rows x 30 columns]"
      ]
     },
     "execution_count": 6,
     "metadata": {},
     "output_type": "execute_result"
    }
   ],
   "source": [
    "credit.head()"
   ]
  },
  {
   "cell_type": "code",
   "execution_count": 7,
   "metadata": {},
   "outputs": [
    {
     "name": "stdout",
     "output_type": "stream",
     "text": [
      "<class 'pandas.core.frame.DataFrame'>\n",
      "RangeIndex: 30000 entries, 0 to 29999\n",
      "Data columns (total 30 columns):\n",
      " #   Column                      Non-Null Count  Dtype \n",
      "---  ------                      --------------  ----- \n",
      " 0   Unnamed: 0                  30000 non-null  int64 \n",
      " 1   ID                          30000 non-null  int64 \n",
      " 2   LIMIT_BAL                   30000 non-null  int64 \n",
      " 3   SEX                         30000 non-null  object\n",
      " 4   EDUCATION                   30000 non-null  object\n",
      " 5   MARRIAGE                    30000 non-null  int64 \n",
      " 6   AGE                         30000 non-null  int64 \n",
      " 7   PAY_0                       30000 non-null  int64 \n",
      " 8   PAY_2                       30000 non-null  int64 \n",
      " 9   PAY_3                       30000 non-null  int64 \n",
      " 10  PAY_4                       30000 non-null  int64 \n",
      " 11  PAY_5                       30000 non-null  int64 \n",
      " 12  PAY_6                       30000 non-null  int64 \n",
      " 13  BILL_AMT1                   30000 non-null  int64 \n",
      " 14  BILL_AMT2                   30000 non-null  int64 \n",
      " 15  BILL_AMT3                   30000 non-null  int64 \n",
      " 16  BILL_AMT4                   30000 non-null  int64 \n",
      " 17  BILL_AMT5                   30000 non-null  int64 \n",
      " 18  BILL_AMT6                   30000 non-null  int64 \n",
      " 19  PAY_AMT1                    30000 non-null  int64 \n",
      " 20  PAY_AMT2                    30000 non-null  int64 \n",
      " 21  PAY_AMT3                    30000 non-null  int64 \n",
      " 22  PAY_AMT4                    30000 non-null  int64 \n",
      " 23  PAY_AMT5                    30000 non-null  int64 \n",
      " 24  PAY_AMT6                    30000 non-null  int64 \n",
      " 25  default payment next month  30000 non-null  object\n",
      " 26  SEX_ID                      30000 non-null  int64 \n",
      " 27  EDUCATION_ID                30000 non-null  int64 \n",
      " 28  MARRIAGE_LABEL              30000 non-null  object\n",
      " 29  PMT_DEFAULT_IND             30000 non-null  int64 \n",
      "dtypes: int64(26), object(4)\n",
      "memory usage: 6.9+ MB\n"
     ]
    }
   ],
   "source": [
    "credit.info()"
   ]
  },
  {
   "cell_type": "markdown",
   "metadata": {},
   "source": [
    "## Preprocessing Data"
   ]
  },
  {
   "cell_type": "markdown",
   "metadata": {},
   "source": [
    "###### Most of the pre - processing was already done in task 1.  There are no nulls or duplicates. Most of the data types are integers.  Refer to C2T1.ipynb for  preprocessing. \n",
    "###### There are 2 things I need to do here in preprocessing, since I imported from .csv file : \n",
    " * change the object dtypes to category\n",
    " * drop the first column (Called Unnamed: 0) which seems to be the index of the original dataframe. It is not needed for EDA.\n",
    "\n",
    "###### In addition, I need to discretize age and limit_bal and pay_0 to pay_6"
   ]
  },
  {
   "cell_type": "code",
   "execution_count": 8,
   "metadata": {},
   "outputs": [],
   "source": [
    "#convert object datatypes to categorical datatypes\n",
    "credit['SEX'] = credit['SEX'].astype('category')\n",
    "credit['EDUCATION'] = credit['EDUCATION'].astype('category')\n",
    "credit['default payment next month'] = credit['default payment next month'].astype('category')\n",
    "credit['MARRIAGE_LABEL'] = credit['MARRIAGE_LABEL'].astype('category')"
   ]
  },
  {
   "cell_type": "code",
   "execution_count": 9,
   "metadata": {},
   "outputs": [
    {
     "data": {
      "text/plain": [
       "Index(['Unnamed: 0', 'ID', 'LIMIT_BAL', 'SEX', 'EDUCATION', 'MARRIAGE', 'AGE',\n",
       "       'PAY_0', 'PAY_2', 'PAY_3', 'PAY_4', 'PAY_5', 'PAY_6', 'BILL_AMT1',\n",
       "       'BILL_AMT2', 'BILL_AMT3', 'BILL_AMT4', 'BILL_AMT5', 'BILL_AMT6',\n",
       "       'PAY_AMT1', 'PAY_AMT2', 'PAY_AMT3', 'PAY_AMT4', 'PAY_AMT5', 'PAY_AMT6',\n",
       "       'default payment next month', 'SEX_ID', 'EDUCATION_ID',\n",
       "       'MARRIAGE_LABEL', 'PMT_DEFAULT_IND'],\n",
       "      dtype='object')"
      ]
     },
     "execution_count": 9,
     "metadata": {},
     "output_type": "execute_result"
    }
   ],
   "source": [
    "# what are the column names?\n",
    "credit.columns"
   ]
  },
  {
   "cell_type": "code",
   "execution_count": 10,
   "metadata": {},
   "outputs": [],
   "source": [
    "# drop the first 'Unnamed' column\n",
    "credit = credit.drop(['Unnamed: 0'], axis = 1)"
   ]
  },
  {
   "cell_type": "code",
   "execution_count": 11,
   "metadata": {},
   "outputs": [
    {
     "data": {
      "text/plain": [
       "ID                               int64\n",
       "LIMIT_BAL                        int64\n",
       "SEX                           category\n",
       "EDUCATION                     category\n",
       "MARRIAGE                         int64\n",
       "AGE                              int64\n",
       "PAY_0                            int64\n",
       "PAY_2                            int64\n",
       "PAY_3                            int64\n",
       "PAY_4                            int64\n",
       "PAY_5                            int64\n",
       "PAY_6                            int64\n",
       "BILL_AMT1                        int64\n",
       "BILL_AMT2                        int64\n",
       "BILL_AMT3                        int64\n",
       "BILL_AMT4                        int64\n",
       "BILL_AMT5                        int64\n",
       "BILL_AMT6                        int64\n",
       "PAY_AMT1                         int64\n",
       "PAY_AMT2                         int64\n",
       "PAY_AMT3                         int64\n",
       "PAY_AMT4                         int64\n",
       "PAY_AMT5                         int64\n",
       "PAY_AMT6                         int64\n",
       "default payment next month    category\n",
       "SEX_ID                           int64\n",
       "EDUCATION_ID                     int64\n",
       "MARRIAGE_LABEL                category\n",
       "PMT_DEFAULT_IND                  int64\n",
       "dtype: object"
      ]
     },
     "execution_count": 11,
     "metadata": {},
     "output_type": "execute_result"
    }
   ],
   "source": [
    "# check for the resulting datatypes\n",
    "credit.dtypes"
   ]
  },
  {
   "cell_type": "markdown",
   "metadata": {},
   "source": [
    "###### Discretize Age"
   ]
  },
  {
   "cell_type": "code",
   "execution_count": 12,
   "metadata": {},
   "outputs": [],
   "source": [
    "# discretize age into 4 intervals and add as a new feature to dataframe\n",
    "# note by default right = True, which means the right value (the upper limit) is included \n",
    "# this means in the bins below, age 30 is included in bin 30-39\n",
    "# Note that these intervals are not equally spaced. Customer ages range between 21 to 79\n",
    "credit = credit.assign(age_bins = pd.cut(credit['AGE'], \n",
    "                                             bins = [19, 29, 39, 49, 80] , \n",
    "                                             labels = ['20-29', '30-39', '40-49', '50 and above']\n",
    "                                            ))"
   ]
  },
  {
   "cell_type": "markdown",
   "metadata": {},
   "source": [
    "###### Discretize limit_bal"
   ]
  },
  {
   "cell_type": "code",
   "execution_count": 13,
   "metadata": {},
   "outputs": [],
   "source": [
    "# discretize balance into 4 intervals and add as a new feature to dataframe\n",
    "# Note that these intervals are not equally spaced.\n",
    "credit = credit.assign(limit_bal_bins = pd.cut(credit['LIMIT_BAL'], \n",
    "                                             bins = [0, 200000, 400000, 600000, 1100000] , \n",
    "                                             labels = ['below $200K', '$200K to 400K', '$400K to 600K', '$600K and above']\n",
    "                                            ))"
   ]
  },
  {
   "cell_type": "code",
   "execution_count": 14,
   "metadata": {},
   "outputs": [
    {
     "name": "stdout",
     "output_type": "stream",
     "text": [
      "<class 'pandas.core.frame.DataFrame'>\n",
      "RangeIndex: 30000 entries, 0 to 29999\n",
      "Data columns (total 31 columns):\n",
      " #   Column                      Non-Null Count  Dtype   \n",
      "---  ------                      --------------  -----   \n",
      " 0   ID                          30000 non-null  int64   \n",
      " 1   LIMIT_BAL                   30000 non-null  int64   \n",
      " 2   SEX                         30000 non-null  category\n",
      " 3   EDUCATION                   30000 non-null  category\n",
      " 4   MARRIAGE                    30000 non-null  int64   \n",
      " 5   AGE                         30000 non-null  int64   \n",
      " 6   PAY_0                       30000 non-null  int64   \n",
      " 7   PAY_2                       30000 non-null  int64   \n",
      " 8   PAY_3                       30000 non-null  int64   \n",
      " 9   PAY_4                       30000 non-null  int64   \n",
      " 10  PAY_5                       30000 non-null  int64   \n",
      " 11  PAY_6                       30000 non-null  int64   \n",
      " 12  BILL_AMT1                   30000 non-null  int64   \n",
      " 13  BILL_AMT2                   30000 non-null  int64   \n",
      " 14  BILL_AMT3                   30000 non-null  int64   \n",
      " 15  BILL_AMT4                   30000 non-null  int64   \n",
      " 16  BILL_AMT5                   30000 non-null  int64   \n",
      " 17  BILL_AMT6                   30000 non-null  int64   \n",
      " 18  PAY_AMT1                    30000 non-null  int64   \n",
      " 19  PAY_AMT2                    30000 non-null  int64   \n",
      " 20  PAY_AMT3                    30000 non-null  int64   \n",
      " 21  PAY_AMT4                    30000 non-null  int64   \n",
      " 22  PAY_AMT5                    30000 non-null  int64   \n",
      " 23  PAY_AMT6                    30000 non-null  int64   \n",
      " 24  default payment next month  30000 non-null  category\n",
      " 25  SEX_ID                      30000 non-null  int64   \n",
      " 26  EDUCATION_ID                30000 non-null  int64   \n",
      " 27  MARRIAGE_LABEL              30000 non-null  category\n",
      " 28  PMT_DEFAULT_IND             30000 non-null  int64   \n",
      " 29  age_bins                    30000 non-null  category\n",
      " 30  limit_bal_bins              30000 non-null  category\n",
      "dtypes: category(6), int64(25)\n",
      "memory usage: 5.9 MB\n"
     ]
    }
   ],
   "source": [
    "credit.info()"
   ]
  },
  {
   "cell_type": "markdown",
   "metadata": {},
   "source": [
    "###### Discretize PAY_0, PAY_2, PAY_3, PAY_4, PAY_5 and PAY_6 into payment made or delayed. -1, -2 and 0 will be considered as Payment made. 1 through 8 will be considered payment defaulted"
   ]
  },
  {
   "cell_type": "code",
   "execution_count": 15,
   "metadata": {},
   "outputs": [],
   "source": [
    "# discretize PAY_0 into 2 intervals and add as a new feature to dataframe. 0 - not default, 1 - default\n",
    "# note by default right = True, which means the right value (the upper limit) is included \n",
    "# this means in the bins below, 0 is included in -3 to 0, and 1 is included in 1 through 10\n",
    "# Note that these intervals are not equally spaced.\n",
    "credit = credit.assign(PAY_0_default = pd.cut(credit['PAY_0'], \n",
    "                                             bins = [-3, 0, 10] , \n",
    "                                             labels = ['0', '1']\n",
    "                                            ))\n",
    "credit = credit.assign(PAY_2_default = pd.cut(credit['PAY_2'], \n",
    "                                             bins = [-3, 0, 10] , \n",
    "                                             labels = ['0', '1']\n",
    "                                            ))\n",
    "credit = credit.assign(PAY_3_default = pd.cut(credit['PAY_3'], \n",
    "                                             bins = [-3, 0, 10] , \n",
    "                                             labels = ['0', '1']\n",
    "                                            ))\n",
    "credit = credit.assign(PAY_4_default = pd.cut(credit['PAY_4'], \n",
    "                                             bins = [-3, 0, 10] , \n",
    "                                             labels = ['0', '1']\n",
    "                                            ))\n",
    "credit = credit.assign(PAY_5_default = pd.cut(credit['PAY_5'], \n",
    "                                             bins = [-3, 0, 10] , \n",
    "                                             labels = ['0', '1']\n",
    "                                            ))\n",
    "credit = credit.assign(PAY_6_default = pd.cut(credit['PAY_6'], \n",
    "                                             bins = [-3, 0, 10] , \n",
    "                                             labels = ['0', '1']\n",
    "                                            ))"
   ]
  },
  {
   "cell_type": "code",
   "execution_count": 16,
   "metadata": {},
   "outputs": [
    {
     "data": {
      "text/plain": [
       "0"
      ]
     },
     "execution_count": 16,
     "metadata": {},
     "output_type": "execute_result"
    }
   ],
   "source": [
    "# ensure no nulls are present after discretization\n",
    "credit.isnull().any().sum()"
   ]
  },
  {
   "cell_type": "code",
   "execution_count": 17,
   "metadata": {},
   "outputs": [
    {
     "name": "stdout",
     "output_type": "stream",
     "text": [
      "<class 'pandas.core.frame.DataFrame'>\n",
      "RangeIndex: 30000 entries, 0 to 29999\n",
      "Data columns (total 37 columns):\n",
      " #   Column                      Non-Null Count  Dtype   \n",
      "---  ------                      --------------  -----   \n",
      " 0   ID                          30000 non-null  int64   \n",
      " 1   LIMIT_BAL                   30000 non-null  int64   \n",
      " 2   SEX                         30000 non-null  category\n",
      " 3   EDUCATION                   30000 non-null  category\n",
      " 4   MARRIAGE                    30000 non-null  int64   \n",
      " 5   AGE                         30000 non-null  int64   \n",
      " 6   PAY_0                       30000 non-null  int64   \n",
      " 7   PAY_2                       30000 non-null  int64   \n",
      " 8   PAY_3                       30000 non-null  int64   \n",
      " 9   PAY_4                       30000 non-null  int64   \n",
      " 10  PAY_5                       30000 non-null  int64   \n",
      " 11  PAY_6                       30000 non-null  int64   \n",
      " 12  BILL_AMT1                   30000 non-null  int64   \n",
      " 13  BILL_AMT2                   30000 non-null  int64   \n",
      " 14  BILL_AMT3                   30000 non-null  int64   \n",
      " 15  BILL_AMT4                   30000 non-null  int64   \n",
      " 16  BILL_AMT5                   30000 non-null  int64   \n",
      " 17  BILL_AMT6                   30000 non-null  int64   \n",
      " 18  PAY_AMT1                    30000 non-null  int64   \n",
      " 19  PAY_AMT2                    30000 non-null  int64   \n",
      " 20  PAY_AMT3                    30000 non-null  int64   \n",
      " 21  PAY_AMT4                    30000 non-null  int64   \n",
      " 22  PAY_AMT5                    30000 non-null  int64   \n",
      " 23  PAY_AMT6                    30000 non-null  int64   \n",
      " 24  default payment next month  30000 non-null  category\n",
      " 25  SEX_ID                      30000 non-null  int64   \n",
      " 26  EDUCATION_ID                30000 non-null  int64   \n",
      " 27  MARRIAGE_LABEL              30000 non-null  category\n",
      " 28  PMT_DEFAULT_IND             30000 non-null  int64   \n",
      " 29  age_bins                    30000 non-null  category\n",
      " 30  limit_bal_bins              30000 non-null  category\n",
      " 31  PAY_0_default               30000 non-null  category\n",
      " 32  PAY_2_default               30000 non-null  category\n",
      " 33  PAY_3_default               30000 non-null  category\n",
      " 34  PAY_4_default               30000 non-null  category\n",
      " 35  PAY_5_default               30000 non-null  category\n",
      " 36  PAY_6_default               30000 non-null  category\n",
      "dtypes: category(12), int64(25)\n",
      "memory usage: 6.1 MB\n"
     ]
    }
   ],
   "source": [
    "# take a peek at the dataset after discretizing\n",
    "credit.info()"
   ]
  },
  {
   "cell_type": "code",
   "execution_count": 18,
   "metadata": {},
   "outputs": [
    {
     "data": {
      "text/html": [
       "<div>\n",
       "<style scoped>\n",
       "    .dataframe tbody tr th:only-of-type {\n",
       "        vertical-align: middle;\n",
       "    }\n",
       "\n",
       "    .dataframe tbody tr th {\n",
       "        vertical-align: top;\n",
       "    }\n",
       "\n",
       "    .dataframe thead th {\n",
       "        text-align: right;\n",
       "    }\n",
       "</style>\n",
       "<table border=\"1\" class=\"dataframe\">\n",
       "  <thead>\n",
       "    <tr style=\"text-align: right;\">\n",
       "      <th></th>\n",
       "      <th>ID</th>\n",
       "      <th>LIMIT_BAL</th>\n",
       "      <th>SEX</th>\n",
       "      <th>EDUCATION</th>\n",
       "      <th>MARRIAGE</th>\n",
       "      <th>AGE</th>\n",
       "      <th>PAY_0</th>\n",
       "      <th>PAY_2</th>\n",
       "      <th>PAY_3</th>\n",
       "      <th>PAY_4</th>\n",
       "      <th>...</th>\n",
       "      <th>MARRIAGE_LABEL</th>\n",
       "      <th>PMT_DEFAULT_IND</th>\n",
       "      <th>age_bins</th>\n",
       "      <th>limit_bal_bins</th>\n",
       "      <th>PAY_0_default</th>\n",
       "      <th>PAY_2_default</th>\n",
       "      <th>PAY_3_default</th>\n",
       "      <th>PAY_4_default</th>\n",
       "      <th>PAY_5_default</th>\n",
       "      <th>PAY_6_default</th>\n",
       "    </tr>\n",
       "  </thead>\n",
       "  <tbody>\n",
       "    <tr>\n",
       "      <th>0</th>\n",
       "      <td>1</td>\n",
       "      <td>20000</td>\n",
       "      <td>female</td>\n",
       "      <td>university</td>\n",
       "      <td>1</td>\n",
       "      <td>24</td>\n",
       "      <td>2</td>\n",
       "      <td>2</td>\n",
       "      <td>-1</td>\n",
       "      <td>-1</td>\n",
       "      <td>...</td>\n",
       "      <td>Married</td>\n",
       "      <td>0</td>\n",
       "      <td>20-29</td>\n",
       "      <td>below $200K</td>\n",
       "      <td>1</td>\n",
       "      <td>1</td>\n",
       "      <td>0</td>\n",
       "      <td>0</td>\n",
       "      <td>0</td>\n",
       "      <td>0</td>\n",
       "    </tr>\n",
       "    <tr>\n",
       "      <th>1</th>\n",
       "      <td>2</td>\n",
       "      <td>120000</td>\n",
       "      <td>female</td>\n",
       "      <td>university</td>\n",
       "      <td>2</td>\n",
       "      <td>26</td>\n",
       "      <td>-1</td>\n",
       "      <td>2</td>\n",
       "      <td>0</td>\n",
       "      <td>0</td>\n",
       "      <td>...</td>\n",
       "      <td>Single</td>\n",
       "      <td>0</td>\n",
       "      <td>20-29</td>\n",
       "      <td>below $200K</td>\n",
       "      <td>0</td>\n",
       "      <td>1</td>\n",
       "      <td>0</td>\n",
       "      <td>0</td>\n",
       "      <td>0</td>\n",
       "      <td>1</td>\n",
       "    </tr>\n",
       "    <tr>\n",
       "      <th>2</th>\n",
       "      <td>3</td>\n",
       "      <td>90000</td>\n",
       "      <td>female</td>\n",
       "      <td>university</td>\n",
       "      <td>2</td>\n",
       "      <td>34</td>\n",
       "      <td>0</td>\n",
       "      <td>0</td>\n",
       "      <td>0</td>\n",
       "      <td>0</td>\n",
       "      <td>...</td>\n",
       "      <td>Single</td>\n",
       "      <td>1</td>\n",
       "      <td>30-39</td>\n",
       "      <td>below $200K</td>\n",
       "      <td>0</td>\n",
       "      <td>0</td>\n",
       "      <td>0</td>\n",
       "      <td>0</td>\n",
       "      <td>0</td>\n",
       "      <td>0</td>\n",
       "    </tr>\n",
       "    <tr>\n",
       "      <th>3</th>\n",
       "      <td>4</td>\n",
       "      <td>50000</td>\n",
       "      <td>female</td>\n",
       "      <td>university</td>\n",
       "      <td>1</td>\n",
       "      <td>37</td>\n",
       "      <td>0</td>\n",
       "      <td>0</td>\n",
       "      <td>0</td>\n",
       "      <td>0</td>\n",
       "      <td>...</td>\n",
       "      <td>Married</td>\n",
       "      <td>1</td>\n",
       "      <td>30-39</td>\n",
       "      <td>below $200K</td>\n",
       "      <td>0</td>\n",
       "      <td>0</td>\n",
       "      <td>0</td>\n",
       "      <td>0</td>\n",
       "      <td>0</td>\n",
       "      <td>0</td>\n",
       "    </tr>\n",
       "    <tr>\n",
       "      <th>4</th>\n",
       "      <td>5</td>\n",
       "      <td>50000</td>\n",
       "      <td>male</td>\n",
       "      <td>university</td>\n",
       "      <td>1</td>\n",
       "      <td>57</td>\n",
       "      <td>-1</td>\n",
       "      <td>0</td>\n",
       "      <td>-1</td>\n",
       "      <td>0</td>\n",
       "      <td>...</td>\n",
       "      <td>Married</td>\n",
       "      <td>1</td>\n",
       "      <td>50 and above</td>\n",
       "      <td>below $200K</td>\n",
       "      <td>0</td>\n",
       "      <td>0</td>\n",
       "      <td>0</td>\n",
       "      <td>0</td>\n",
       "      <td>0</td>\n",
       "      <td>0</td>\n",
       "    </tr>\n",
       "    <tr>\n",
       "      <th>5</th>\n",
       "      <td>6</td>\n",
       "      <td>50000</td>\n",
       "      <td>male</td>\n",
       "      <td>graduate school</td>\n",
       "      <td>2</td>\n",
       "      <td>37</td>\n",
       "      <td>0</td>\n",
       "      <td>0</td>\n",
       "      <td>0</td>\n",
       "      <td>0</td>\n",
       "      <td>...</td>\n",
       "      <td>Single</td>\n",
       "      <td>1</td>\n",
       "      <td>30-39</td>\n",
       "      <td>below $200K</td>\n",
       "      <td>0</td>\n",
       "      <td>0</td>\n",
       "      <td>0</td>\n",
       "      <td>0</td>\n",
       "      <td>0</td>\n",
       "      <td>0</td>\n",
       "    </tr>\n",
       "    <tr>\n",
       "      <th>6</th>\n",
       "      <td>7</td>\n",
       "      <td>500000</td>\n",
       "      <td>male</td>\n",
       "      <td>graduate school</td>\n",
       "      <td>2</td>\n",
       "      <td>29</td>\n",
       "      <td>0</td>\n",
       "      <td>0</td>\n",
       "      <td>0</td>\n",
       "      <td>0</td>\n",
       "      <td>...</td>\n",
       "      <td>Single</td>\n",
       "      <td>1</td>\n",
       "      <td>20-29</td>\n",
       "      <td>$400K to 600K</td>\n",
       "      <td>0</td>\n",
       "      <td>0</td>\n",
       "      <td>0</td>\n",
       "      <td>0</td>\n",
       "      <td>0</td>\n",
       "      <td>0</td>\n",
       "    </tr>\n",
       "    <tr>\n",
       "      <th>7</th>\n",
       "      <td>8</td>\n",
       "      <td>100000</td>\n",
       "      <td>female</td>\n",
       "      <td>university</td>\n",
       "      <td>2</td>\n",
       "      <td>23</td>\n",
       "      <td>0</td>\n",
       "      <td>-1</td>\n",
       "      <td>-1</td>\n",
       "      <td>0</td>\n",
       "      <td>...</td>\n",
       "      <td>Single</td>\n",
       "      <td>1</td>\n",
       "      <td>20-29</td>\n",
       "      <td>below $200K</td>\n",
       "      <td>0</td>\n",
       "      <td>0</td>\n",
       "      <td>0</td>\n",
       "      <td>0</td>\n",
       "      <td>0</td>\n",
       "      <td>0</td>\n",
       "    </tr>\n",
       "    <tr>\n",
       "      <th>8</th>\n",
       "      <td>9</td>\n",
       "      <td>140000</td>\n",
       "      <td>female</td>\n",
       "      <td>high school</td>\n",
       "      <td>1</td>\n",
       "      <td>28</td>\n",
       "      <td>0</td>\n",
       "      <td>0</td>\n",
       "      <td>2</td>\n",
       "      <td>0</td>\n",
       "      <td>...</td>\n",
       "      <td>Married</td>\n",
       "      <td>1</td>\n",
       "      <td>20-29</td>\n",
       "      <td>below $200K</td>\n",
       "      <td>0</td>\n",
       "      <td>0</td>\n",
       "      <td>1</td>\n",
       "      <td>0</td>\n",
       "      <td>0</td>\n",
       "      <td>0</td>\n",
       "    </tr>\n",
       "    <tr>\n",
       "      <th>9</th>\n",
       "      <td>10</td>\n",
       "      <td>20000</td>\n",
       "      <td>male</td>\n",
       "      <td>high school</td>\n",
       "      <td>2</td>\n",
       "      <td>35</td>\n",
       "      <td>-2</td>\n",
       "      <td>-2</td>\n",
       "      <td>-2</td>\n",
       "      <td>-2</td>\n",
       "      <td>...</td>\n",
       "      <td>Single</td>\n",
       "      <td>1</td>\n",
       "      <td>30-39</td>\n",
       "      <td>below $200K</td>\n",
       "      <td>0</td>\n",
       "      <td>0</td>\n",
       "      <td>0</td>\n",
       "      <td>0</td>\n",
       "      <td>0</td>\n",
       "      <td>0</td>\n",
       "    </tr>\n",
       "    <tr>\n",
       "      <th>10</th>\n",
       "      <td>11</td>\n",
       "      <td>200000</td>\n",
       "      <td>female</td>\n",
       "      <td>high school</td>\n",
       "      <td>2</td>\n",
       "      <td>34</td>\n",
       "      <td>0</td>\n",
       "      <td>0</td>\n",
       "      <td>2</td>\n",
       "      <td>0</td>\n",
       "      <td>...</td>\n",
       "      <td>Single</td>\n",
       "      <td>1</td>\n",
       "      <td>30-39</td>\n",
       "      <td>below $200K</td>\n",
       "      <td>0</td>\n",
       "      <td>0</td>\n",
       "      <td>1</td>\n",
       "      <td>0</td>\n",
       "      <td>0</td>\n",
       "      <td>0</td>\n",
       "    </tr>\n",
       "    <tr>\n",
       "      <th>11</th>\n",
       "      <td>12</td>\n",
       "      <td>260000</td>\n",
       "      <td>female</td>\n",
       "      <td>graduate school</td>\n",
       "      <td>2</td>\n",
       "      <td>51</td>\n",
       "      <td>-1</td>\n",
       "      <td>-1</td>\n",
       "      <td>-1</td>\n",
       "      <td>-1</td>\n",
       "      <td>...</td>\n",
       "      <td>Single</td>\n",
       "      <td>1</td>\n",
       "      <td>50 and above</td>\n",
       "      <td>$200K to 400K</td>\n",
       "      <td>0</td>\n",
       "      <td>0</td>\n",
       "      <td>0</td>\n",
       "      <td>0</td>\n",
       "      <td>0</td>\n",
       "      <td>1</td>\n",
       "    </tr>\n",
       "    <tr>\n",
       "      <th>12</th>\n",
       "      <td>13</td>\n",
       "      <td>630000</td>\n",
       "      <td>female</td>\n",
       "      <td>university</td>\n",
       "      <td>2</td>\n",
       "      <td>41</td>\n",
       "      <td>-1</td>\n",
       "      <td>0</td>\n",
       "      <td>-1</td>\n",
       "      <td>-1</td>\n",
       "      <td>...</td>\n",
       "      <td>Single</td>\n",
       "      <td>1</td>\n",
       "      <td>40-49</td>\n",
       "      <td>$600K and above</td>\n",
       "      <td>0</td>\n",
       "      <td>0</td>\n",
       "      <td>0</td>\n",
       "      <td>0</td>\n",
       "      <td>0</td>\n",
       "      <td>0</td>\n",
       "    </tr>\n",
       "    <tr>\n",
       "      <th>13</th>\n",
       "      <td>14</td>\n",
       "      <td>70000</td>\n",
       "      <td>male</td>\n",
       "      <td>university</td>\n",
       "      <td>2</td>\n",
       "      <td>30</td>\n",
       "      <td>1</td>\n",
       "      <td>2</td>\n",
       "      <td>2</td>\n",
       "      <td>0</td>\n",
       "      <td>...</td>\n",
       "      <td>Single</td>\n",
       "      <td>0</td>\n",
       "      <td>30-39</td>\n",
       "      <td>below $200K</td>\n",
       "      <td>1</td>\n",
       "      <td>1</td>\n",
       "      <td>1</td>\n",
       "      <td>0</td>\n",
       "      <td>0</td>\n",
       "      <td>1</td>\n",
       "    </tr>\n",
       "    <tr>\n",
       "      <th>14</th>\n",
       "      <td>15</td>\n",
       "      <td>250000</td>\n",
       "      <td>male</td>\n",
       "      <td>graduate school</td>\n",
       "      <td>2</td>\n",
       "      <td>29</td>\n",
       "      <td>0</td>\n",
       "      <td>0</td>\n",
       "      <td>0</td>\n",
       "      <td>0</td>\n",
       "      <td>...</td>\n",
       "      <td>Single</td>\n",
       "      <td>1</td>\n",
       "      <td>20-29</td>\n",
       "      <td>$200K to 400K</td>\n",
       "      <td>0</td>\n",
       "      <td>0</td>\n",
       "      <td>0</td>\n",
       "      <td>0</td>\n",
       "      <td>0</td>\n",
       "      <td>0</td>\n",
       "    </tr>\n",
       "    <tr>\n",
       "      <th>15</th>\n",
       "      <td>16</td>\n",
       "      <td>50000</td>\n",
       "      <td>female</td>\n",
       "      <td>high school</td>\n",
       "      <td>3</td>\n",
       "      <td>23</td>\n",
       "      <td>1</td>\n",
       "      <td>2</td>\n",
       "      <td>0</td>\n",
       "      <td>0</td>\n",
       "      <td>...</td>\n",
       "      <td>Divorced</td>\n",
       "      <td>1</td>\n",
       "      <td>20-29</td>\n",
       "      <td>below $200K</td>\n",
       "      <td>1</td>\n",
       "      <td>1</td>\n",
       "      <td>0</td>\n",
       "      <td>0</td>\n",
       "      <td>0</td>\n",
       "      <td>0</td>\n",
       "    </tr>\n",
       "    <tr>\n",
       "      <th>16</th>\n",
       "      <td>17</td>\n",
       "      <td>20000</td>\n",
       "      <td>male</td>\n",
       "      <td>graduate school</td>\n",
       "      <td>2</td>\n",
       "      <td>24</td>\n",
       "      <td>0</td>\n",
       "      <td>0</td>\n",
       "      <td>2</td>\n",
       "      <td>2</td>\n",
       "      <td>...</td>\n",
       "      <td>Single</td>\n",
       "      <td>0</td>\n",
       "      <td>20-29</td>\n",
       "      <td>below $200K</td>\n",
       "      <td>0</td>\n",
       "      <td>0</td>\n",
       "      <td>1</td>\n",
       "      <td>1</td>\n",
       "      <td>1</td>\n",
       "      <td>1</td>\n",
       "    </tr>\n",
       "    <tr>\n",
       "      <th>17</th>\n",
       "      <td>18</td>\n",
       "      <td>320000</td>\n",
       "      <td>male</td>\n",
       "      <td>graduate school</td>\n",
       "      <td>1</td>\n",
       "      <td>49</td>\n",
       "      <td>0</td>\n",
       "      <td>0</td>\n",
       "      <td>0</td>\n",
       "      <td>-1</td>\n",
       "      <td>...</td>\n",
       "      <td>Married</td>\n",
       "      <td>1</td>\n",
       "      <td>40-49</td>\n",
       "      <td>$200K to 400K</td>\n",
       "      <td>0</td>\n",
       "      <td>0</td>\n",
       "      <td>0</td>\n",
       "      <td>0</td>\n",
       "      <td>0</td>\n",
       "      <td>0</td>\n",
       "    </tr>\n",
       "    <tr>\n",
       "      <th>18</th>\n",
       "      <td>19</td>\n",
       "      <td>360000</td>\n",
       "      <td>female</td>\n",
       "      <td>graduate school</td>\n",
       "      <td>1</td>\n",
       "      <td>49</td>\n",
       "      <td>1</td>\n",
       "      <td>-2</td>\n",
       "      <td>-2</td>\n",
       "      <td>-2</td>\n",
       "      <td>...</td>\n",
       "      <td>Married</td>\n",
       "      <td>1</td>\n",
       "      <td>40-49</td>\n",
       "      <td>$200K to 400K</td>\n",
       "      <td>1</td>\n",
       "      <td>0</td>\n",
       "      <td>0</td>\n",
       "      <td>0</td>\n",
       "      <td>0</td>\n",
       "      <td>0</td>\n",
       "    </tr>\n",
       "    <tr>\n",
       "      <th>19</th>\n",
       "      <td>20</td>\n",
       "      <td>180000</td>\n",
       "      <td>female</td>\n",
       "      <td>graduate school</td>\n",
       "      <td>2</td>\n",
       "      <td>29</td>\n",
       "      <td>1</td>\n",
       "      <td>-2</td>\n",
       "      <td>-2</td>\n",
       "      <td>-2</td>\n",
       "      <td>...</td>\n",
       "      <td>Single</td>\n",
       "      <td>1</td>\n",
       "      <td>20-29</td>\n",
       "      <td>below $200K</td>\n",
       "      <td>1</td>\n",
       "      <td>0</td>\n",
       "      <td>0</td>\n",
       "      <td>0</td>\n",
       "      <td>0</td>\n",
       "      <td>0</td>\n",
       "    </tr>\n",
       "  </tbody>\n",
       "</table>\n",
       "<p>20 rows × 37 columns</p>\n",
       "</div>"
      ],
      "text/plain": [
       "    ID  LIMIT_BAL     SEX        EDUCATION  MARRIAGE  AGE  PAY_0  PAY_2  \\\n",
       "0    1      20000  female       university         1   24      2      2   \n",
       "1    2     120000  female       university         2   26     -1      2   \n",
       "2    3      90000  female       university         2   34      0      0   \n",
       "3    4      50000  female       university         1   37      0      0   \n",
       "4    5      50000    male       university         1   57     -1      0   \n",
       "5    6      50000    male  graduate school         2   37      0      0   \n",
       "6    7     500000    male  graduate school         2   29      0      0   \n",
       "7    8     100000  female       university         2   23      0     -1   \n",
       "8    9     140000  female      high school         1   28      0      0   \n",
       "9   10      20000    male      high school         2   35     -2     -2   \n",
       "10  11     200000  female      high school         2   34      0      0   \n",
       "11  12     260000  female  graduate school         2   51     -1     -1   \n",
       "12  13     630000  female       university         2   41     -1      0   \n",
       "13  14      70000    male       university         2   30      1      2   \n",
       "14  15     250000    male  graduate school         2   29      0      0   \n",
       "15  16      50000  female      high school         3   23      1      2   \n",
       "16  17      20000    male  graduate school         2   24      0      0   \n",
       "17  18     320000    male  graduate school         1   49      0      0   \n",
       "18  19     360000  female  graduate school         1   49      1     -2   \n",
       "19  20     180000  female  graduate school         2   29      1     -2   \n",
       "\n",
       "    PAY_3  PAY_4  ...  MARRIAGE_LABEL  PMT_DEFAULT_IND      age_bins  \\\n",
       "0      -1     -1  ...         Married                0         20-29   \n",
       "1       0      0  ...          Single                0         20-29   \n",
       "2       0      0  ...          Single                1         30-39   \n",
       "3       0      0  ...         Married                1         30-39   \n",
       "4      -1      0  ...         Married                1  50 and above   \n",
       "5       0      0  ...          Single                1         30-39   \n",
       "6       0      0  ...          Single                1         20-29   \n",
       "7      -1      0  ...          Single                1         20-29   \n",
       "8       2      0  ...         Married                1         20-29   \n",
       "9      -2     -2  ...          Single                1         30-39   \n",
       "10      2      0  ...          Single                1         30-39   \n",
       "11     -1     -1  ...          Single                1  50 and above   \n",
       "12     -1     -1  ...          Single                1         40-49   \n",
       "13      2      0  ...          Single                0         30-39   \n",
       "14      0      0  ...          Single                1         20-29   \n",
       "15      0      0  ...        Divorced                1         20-29   \n",
       "16      2      2  ...          Single                0         20-29   \n",
       "17      0     -1  ...         Married                1         40-49   \n",
       "18     -2     -2  ...         Married                1         40-49   \n",
       "19     -2     -2  ...          Single                1         20-29   \n",
       "\n",
       "     limit_bal_bins  PAY_0_default  PAY_2_default  PAY_3_default  \\\n",
       "0       below $200K              1              1              0   \n",
       "1       below $200K              0              1              0   \n",
       "2       below $200K              0              0              0   \n",
       "3       below $200K              0              0              0   \n",
       "4       below $200K              0              0              0   \n",
       "5       below $200K              0              0              0   \n",
       "6     $400K to 600K              0              0              0   \n",
       "7       below $200K              0              0              0   \n",
       "8       below $200K              0              0              1   \n",
       "9       below $200K              0              0              0   \n",
       "10      below $200K              0              0              1   \n",
       "11    $200K to 400K              0              0              0   \n",
       "12  $600K and above              0              0              0   \n",
       "13      below $200K              1              1              1   \n",
       "14    $200K to 400K              0              0              0   \n",
       "15      below $200K              1              1              0   \n",
       "16      below $200K              0              0              1   \n",
       "17    $200K to 400K              0              0              0   \n",
       "18    $200K to 400K              1              0              0   \n",
       "19      below $200K              1              0              0   \n",
       "\n",
       "    PAY_4_default  PAY_5_default  PAY_6_default  \n",
       "0               0              0              0  \n",
       "1               0              0              1  \n",
       "2               0              0              0  \n",
       "3               0              0              0  \n",
       "4               0              0              0  \n",
       "5               0              0              0  \n",
       "6               0              0              0  \n",
       "7               0              0              0  \n",
       "8               0              0              0  \n",
       "9               0              0              0  \n",
       "10              0              0              0  \n",
       "11              0              0              1  \n",
       "12              0              0              0  \n",
       "13              0              0              1  \n",
       "14              0              0              0  \n",
       "15              0              0              0  \n",
       "16              1              1              1  \n",
       "17              0              0              0  \n",
       "18              0              0              0  \n",
       "19              0              0              0  \n",
       "\n",
       "[20 rows x 37 columns]"
      ]
     },
     "execution_count": 18,
     "metadata": {},
     "output_type": "execute_result"
    }
   ],
   "source": [
    "credit.head(20)"
   ]
  },
  {
   "cell_type": "markdown",
   "metadata": {},
   "source": [
    "###### Export into excel to use for next task (modelling)"
   ]
  },
  {
   "cell_type": "code",
   "execution_count": 19,
   "metadata": {},
   "outputs": [],
   "source": [
    "#export the data to a comma separated value file\n",
    "credit.to_csv('Credit_One_Data_After_T2.csv')"
   ]
  },
  {
   "cell_type": "markdown",
   "metadata": {},
   "source": [
    "## Exploratory Data Analysis"
   ]
  },
  {
   "cell_type": "code",
   "execution_count": 20,
   "metadata": {},
   "outputs": [
    {
     "data": {
      "text/html": [
       "<div>\n",
       "<style scoped>\n",
       "    .dataframe tbody tr th:only-of-type {\n",
       "        vertical-align: middle;\n",
       "    }\n",
       "\n",
       "    .dataframe tbody tr th {\n",
       "        vertical-align: top;\n",
       "    }\n",
       "\n",
       "    .dataframe thead th {\n",
       "        text-align: right;\n",
       "    }\n",
       "</style>\n",
       "<table border=\"1\" class=\"dataframe\">\n",
       "  <thead>\n",
       "    <tr style=\"text-align: right;\">\n",
       "      <th></th>\n",
       "      <th>ID</th>\n",
       "      <th>LIMIT_BAL</th>\n",
       "      <th>MARRIAGE</th>\n",
       "      <th>AGE</th>\n",
       "      <th>PAY_0</th>\n",
       "      <th>PAY_2</th>\n",
       "      <th>PAY_3</th>\n",
       "      <th>PAY_4</th>\n",
       "      <th>PAY_5</th>\n",
       "      <th>PAY_6</th>\n",
       "      <th>...</th>\n",
       "      <th>BILL_AMT6</th>\n",
       "      <th>PAY_AMT1</th>\n",
       "      <th>PAY_AMT2</th>\n",
       "      <th>PAY_AMT3</th>\n",
       "      <th>PAY_AMT4</th>\n",
       "      <th>PAY_AMT5</th>\n",
       "      <th>PAY_AMT6</th>\n",
       "      <th>SEX_ID</th>\n",
       "      <th>EDUCATION_ID</th>\n",
       "      <th>PMT_DEFAULT_IND</th>\n",
       "    </tr>\n",
       "  </thead>\n",
       "  <tbody>\n",
       "    <tr>\n",
       "      <th>count</th>\n",
       "      <td>30000.000000</td>\n",
       "      <td>30000.000000</td>\n",
       "      <td>30000.000000</td>\n",
       "      <td>30000.000000</td>\n",
       "      <td>30000.000000</td>\n",
       "      <td>30000.000000</td>\n",
       "      <td>30000.000000</td>\n",
       "      <td>30000.000000</td>\n",
       "      <td>30000.000000</td>\n",
       "      <td>30000.000000</td>\n",
       "      <td>...</td>\n",
       "      <td>30000.000000</td>\n",
       "      <td>30000.000000</td>\n",
       "      <td>3.000000e+04</td>\n",
       "      <td>30000.00000</td>\n",
       "      <td>30000.000000</td>\n",
       "      <td>30000.000000</td>\n",
       "      <td>30000.000000</td>\n",
       "      <td>30000.000000</td>\n",
       "      <td>30000.000000</td>\n",
       "      <td>30000.000000</td>\n",
       "    </tr>\n",
       "    <tr>\n",
       "      <th>mean</th>\n",
       "      <td>15000.500000</td>\n",
       "      <td>167484.322667</td>\n",
       "      <td>1.551867</td>\n",
       "      <td>35.485500</td>\n",
       "      <td>-0.016700</td>\n",
       "      <td>-0.133767</td>\n",
       "      <td>-0.166200</td>\n",
       "      <td>-0.220667</td>\n",
       "      <td>-0.266200</td>\n",
       "      <td>-0.291100</td>\n",
       "      <td>...</td>\n",
       "      <td>38871.760400</td>\n",
       "      <td>5663.580500</td>\n",
       "      <td>5.921163e+03</td>\n",
       "      <td>5225.68150</td>\n",
       "      <td>4826.076867</td>\n",
       "      <td>4799.387633</td>\n",
       "      <td>5215.502567</td>\n",
       "      <td>0.396267</td>\n",
       "      <td>1.598100</td>\n",
       "      <td>0.778800</td>\n",
       "    </tr>\n",
       "    <tr>\n",
       "      <th>std</th>\n",
       "      <td>8660.398374</td>\n",
       "      <td>129747.661567</td>\n",
       "      <td>0.521970</td>\n",
       "      <td>9.217904</td>\n",
       "      <td>1.123802</td>\n",
       "      <td>1.197186</td>\n",
       "      <td>1.196868</td>\n",
       "      <td>1.169139</td>\n",
       "      <td>1.133187</td>\n",
       "      <td>1.149988</td>\n",
       "      <td>...</td>\n",
       "      <td>59554.107537</td>\n",
       "      <td>16563.280354</td>\n",
       "      <td>2.304087e+04</td>\n",
       "      <td>17606.96147</td>\n",
       "      <td>15666.159744</td>\n",
       "      <td>15278.305679</td>\n",
       "      <td>17777.465775</td>\n",
       "      <td>0.489129</td>\n",
       "      <td>1.371656</td>\n",
       "      <td>0.415062</td>\n",
       "    </tr>\n",
       "    <tr>\n",
       "      <th>min</th>\n",
       "      <td>1.000000</td>\n",
       "      <td>10000.000000</td>\n",
       "      <td>0.000000</td>\n",
       "      <td>21.000000</td>\n",
       "      <td>-2.000000</td>\n",
       "      <td>-2.000000</td>\n",
       "      <td>-2.000000</td>\n",
       "      <td>-2.000000</td>\n",
       "      <td>-2.000000</td>\n",
       "      <td>-2.000000</td>\n",
       "      <td>...</td>\n",
       "      <td>-339603.000000</td>\n",
       "      <td>0.000000</td>\n",
       "      <td>0.000000e+00</td>\n",
       "      <td>0.00000</td>\n",
       "      <td>0.000000</td>\n",
       "      <td>0.000000</td>\n",
       "      <td>0.000000</td>\n",
       "      <td>0.000000</td>\n",
       "      <td>0.000000</td>\n",
       "      <td>0.000000</td>\n",
       "    </tr>\n",
       "    <tr>\n",
       "      <th>25%</th>\n",
       "      <td>7500.750000</td>\n",
       "      <td>50000.000000</td>\n",
       "      <td>1.000000</td>\n",
       "      <td>28.000000</td>\n",
       "      <td>-1.000000</td>\n",
       "      <td>-1.000000</td>\n",
       "      <td>-1.000000</td>\n",
       "      <td>-1.000000</td>\n",
       "      <td>-1.000000</td>\n",
       "      <td>-1.000000</td>\n",
       "      <td>...</td>\n",
       "      <td>1256.000000</td>\n",
       "      <td>1000.000000</td>\n",
       "      <td>8.330000e+02</td>\n",
       "      <td>390.00000</td>\n",
       "      <td>296.000000</td>\n",
       "      <td>252.500000</td>\n",
       "      <td>117.750000</td>\n",
       "      <td>0.000000</td>\n",
       "      <td>0.000000</td>\n",
       "      <td>1.000000</td>\n",
       "    </tr>\n",
       "    <tr>\n",
       "      <th>50%</th>\n",
       "      <td>15000.500000</td>\n",
       "      <td>140000.000000</td>\n",
       "      <td>2.000000</td>\n",
       "      <td>34.000000</td>\n",
       "      <td>0.000000</td>\n",
       "      <td>0.000000</td>\n",
       "      <td>0.000000</td>\n",
       "      <td>0.000000</td>\n",
       "      <td>0.000000</td>\n",
       "      <td>0.000000</td>\n",
       "      <td>...</td>\n",
       "      <td>17071.000000</td>\n",
       "      <td>2100.000000</td>\n",
       "      <td>2.009000e+03</td>\n",
       "      <td>1800.00000</td>\n",
       "      <td>1500.000000</td>\n",
       "      <td>1500.000000</td>\n",
       "      <td>1500.000000</td>\n",
       "      <td>0.000000</td>\n",
       "      <td>1.000000</td>\n",
       "      <td>1.000000</td>\n",
       "    </tr>\n",
       "    <tr>\n",
       "      <th>75%</th>\n",
       "      <td>22500.250000</td>\n",
       "      <td>240000.000000</td>\n",
       "      <td>2.000000</td>\n",
       "      <td>41.000000</td>\n",
       "      <td>0.000000</td>\n",
       "      <td>0.000000</td>\n",
       "      <td>0.000000</td>\n",
       "      <td>0.000000</td>\n",
       "      <td>0.000000</td>\n",
       "      <td>0.000000</td>\n",
       "      <td>...</td>\n",
       "      <td>49198.250000</td>\n",
       "      <td>5006.000000</td>\n",
       "      <td>5.000000e+03</td>\n",
       "      <td>4505.00000</td>\n",
       "      <td>4013.250000</td>\n",
       "      <td>4031.500000</td>\n",
       "      <td>4000.000000</td>\n",
       "      <td>1.000000</td>\n",
       "      <td>3.000000</td>\n",
       "      <td>1.000000</td>\n",
       "    </tr>\n",
       "    <tr>\n",
       "      <th>max</th>\n",
       "      <td>30000.000000</td>\n",
       "      <td>1000000.000000</td>\n",
       "      <td>3.000000</td>\n",
       "      <td>79.000000</td>\n",
       "      <td>8.000000</td>\n",
       "      <td>8.000000</td>\n",
       "      <td>8.000000</td>\n",
       "      <td>8.000000</td>\n",
       "      <td>8.000000</td>\n",
       "      <td>8.000000</td>\n",
       "      <td>...</td>\n",
       "      <td>961664.000000</td>\n",
       "      <td>873552.000000</td>\n",
       "      <td>1.684259e+06</td>\n",
       "      <td>896040.00000</td>\n",
       "      <td>621000.000000</td>\n",
       "      <td>426529.000000</td>\n",
       "      <td>528666.000000</td>\n",
       "      <td>1.000000</td>\n",
       "      <td>3.000000</td>\n",
       "      <td>1.000000</td>\n",
       "    </tr>\n",
       "  </tbody>\n",
       "</table>\n",
       "<p>8 rows × 25 columns</p>\n",
       "</div>"
      ],
      "text/plain": [
       "                 ID       LIMIT_BAL      MARRIAGE           AGE         PAY_0  \\\n",
       "count  30000.000000    30000.000000  30000.000000  30000.000000  30000.000000   \n",
       "mean   15000.500000   167484.322667      1.551867     35.485500     -0.016700   \n",
       "std     8660.398374   129747.661567      0.521970      9.217904      1.123802   \n",
       "min        1.000000    10000.000000      0.000000     21.000000     -2.000000   \n",
       "25%     7500.750000    50000.000000      1.000000     28.000000     -1.000000   \n",
       "50%    15000.500000   140000.000000      2.000000     34.000000      0.000000   \n",
       "75%    22500.250000   240000.000000      2.000000     41.000000      0.000000   \n",
       "max    30000.000000  1000000.000000      3.000000     79.000000      8.000000   \n",
       "\n",
       "              PAY_2         PAY_3         PAY_4         PAY_5         PAY_6  \\\n",
       "count  30000.000000  30000.000000  30000.000000  30000.000000  30000.000000   \n",
       "mean      -0.133767     -0.166200     -0.220667     -0.266200     -0.291100   \n",
       "std        1.197186      1.196868      1.169139      1.133187      1.149988   \n",
       "min       -2.000000     -2.000000     -2.000000     -2.000000     -2.000000   \n",
       "25%       -1.000000     -1.000000     -1.000000     -1.000000     -1.000000   \n",
       "50%        0.000000      0.000000      0.000000      0.000000      0.000000   \n",
       "75%        0.000000      0.000000      0.000000      0.000000      0.000000   \n",
       "max        8.000000      8.000000      8.000000      8.000000      8.000000   \n",
       "\n",
       "       ...      BILL_AMT6       PAY_AMT1      PAY_AMT2      PAY_AMT3  \\\n",
       "count  ...   30000.000000   30000.000000  3.000000e+04   30000.00000   \n",
       "mean   ...   38871.760400    5663.580500  5.921163e+03    5225.68150   \n",
       "std    ...   59554.107537   16563.280354  2.304087e+04   17606.96147   \n",
       "min    ... -339603.000000       0.000000  0.000000e+00       0.00000   \n",
       "25%    ...    1256.000000    1000.000000  8.330000e+02     390.00000   \n",
       "50%    ...   17071.000000    2100.000000  2.009000e+03    1800.00000   \n",
       "75%    ...   49198.250000    5006.000000  5.000000e+03    4505.00000   \n",
       "max    ...  961664.000000  873552.000000  1.684259e+06  896040.00000   \n",
       "\n",
       "            PAY_AMT4       PAY_AMT5       PAY_AMT6        SEX_ID  \\\n",
       "count   30000.000000   30000.000000   30000.000000  30000.000000   \n",
       "mean     4826.076867    4799.387633    5215.502567      0.396267   \n",
       "std     15666.159744   15278.305679   17777.465775      0.489129   \n",
       "min         0.000000       0.000000       0.000000      0.000000   \n",
       "25%       296.000000     252.500000     117.750000      0.000000   \n",
       "50%      1500.000000    1500.000000    1500.000000      0.000000   \n",
       "75%      4013.250000    4031.500000    4000.000000      1.000000   \n",
       "max    621000.000000  426529.000000  528666.000000      1.000000   \n",
       "\n",
       "       EDUCATION_ID  PMT_DEFAULT_IND  \n",
       "count  30000.000000     30000.000000  \n",
       "mean       1.598100         0.778800  \n",
       "std        1.371656         0.415062  \n",
       "min        0.000000         0.000000  \n",
       "25%        0.000000         1.000000  \n",
       "50%        1.000000         1.000000  \n",
       "75%        3.000000         1.000000  \n",
       "max        3.000000         1.000000  \n",
       "\n",
       "[8 rows x 25 columns]"
      ]
     },
     "execution_count": 20,
     "metadata": {},
     "output_type": "execute_result"
    }
   ],
   "source": [
    "credit.describe()"
   ]
  },
  {
   "cell_type": "code",
   "execution_count": 21,
   "metadata": {},
   "outputs": [],
   "source": [
    "# Using Pandas Profiling to get a HTML summary of some basic statistal analysis and visualizations \n",
    "# of each of the features\n",
    "# note this takes about 3 minc to run, hence commenting it. It runs perfectly well though.\n",
    "\n",
    "#pandas_profiling.ProfileReport(credit)"
   ]
  },
  {
   "cell_type": "markdown",
   "metadata": {},
   "source": [
    "### Statistical Analysis and Visuaizations"
   ]
  },
  {
   "cell_type": "markdown",
   "metadata": {},
   "source": [
    "#### Run Univariate and Bivariate analysis for each of the features, one by one. This will help get me familiar with each feature, as well as help to see if it has any significant relationship with other features that can be used during modelling. With bivariate analysis, check the relationship of each feature with dependent 'default' variable, or with other features."
   ]
  },
  {
   "cell_type": "markdown",
   "metadata": {},
   "source": [
    "#### Feature: LIMIT_BAL and limit_bal_bins"
   ]
  },
  {
   "cell_type": "markdown",
   "metadata": {},
   "source": [
    "###### Check its min, max, mean values"
   ]
  },
  {
   "cell_type": "code",
   "execution_count": 22,
   "metadata": {},
   "outputs": [
    {
     "data": {
      "text/plain": [
       "count      30000.000000\n",
       "mean      167484.322667\n",
       "std       129747.661567\n",
       "min        10000.000000\n",
       "25%        50000.000000\n",
       "50%       140000.000000\n",
       "75%       240000.000000\n",
       "max      1000000.000000\n",
       "Name: LIMIT_BAL, dtype: float64"
      ]
     },
     "execution_count": 22,
     "metadata": {},
     "output_type": "execute_result"
    }
   ],
   "source": [
    "credit.LIMIT_BAL.describe()"
   ]
  },
  {
   "cell_type": "markdown",
   "metadata": {},
   "source": [
    "###### Histogram"
   ]
  },
  {
   "cell_type": "code",
   "execution_count": 23,
   "metadata": {},
   "outputs": [
    {
     "data": {
      "text/plain": [
       "(array([1.2498e+04, 7.8800e+03, 5.0590e+03, 2.7590e+03, 1.5980e+03,\n",
       "        1.2700e+02, 5.6000e+01, 2.2000e+01, 0.0000e+00, 1.0000e+00]),\n",
       " array([  10000.,  109000.,  208000.,  307000.,  406000.,  505000.,\n",
       "         604000.,  703000.,  802000.,  901000., 1000000.]),\n",
       " <a list of 10 Patch objects>)"
      ]
     },
     "execution_count": 23,
     "metadata": {},
     "output_type": "execute_result"
    },
    {
     "data": {
      "image/png": "[encoded data removed]",
      "text/plain": [
       "<Figure size 576x396 with 1 Axes>"
      ]
     },
     "metadata": {},
     "output_type": "display_data"
    }
   ],
   "source": [
    "# plot a histogram of the balance limit\n",
    "plt.style.use('ggplot')\n",
    "plt.hist(credit['LIMIT_BAL'])"
   ]
  },
  {
   "cell_type": "markdown",
   "metadata": {},
   "source": [
    "###### See how balance is distributed using SNS distplot"
   ]
  },
  {
   "cell_type": "code",
   "execution_count": 24,
   "metadata": {},
   "outputs": [
    {
     "data": {
      "text/plain": [
       "<matplotlib.axes._subplots.AxesSubplot at 0x1da5c3b9be0>"
      ]
     },
     "execution_count": 24,
     "metadata": {},
     "output_type": "execute_result"
    },
    {
     "data": {
      "image/png": "[encoded data removed]",
      "text/plain": [
       "<Figure size 576x396 with 1 Axes>"
      ]
     },
     "metadata": {},
     "output_type": "display_data"
    }
   ],
   "source": [
    "sns.distplot(credit['LIMIT_BAL'])"
   ]
  },
  {
   "cell_type": "markdown",
   "metadata": {},
   "source": [
    "###### How is balance distributed across gender - we see a fairly similar distribution across gender"
   ]
  },
  {
   "cell_type": "code",
   "execution_count": 25,
   "metadata": {},
   "outputs": [
    {
     "data": {
      "text/plain": [
       "<seaborn.axisgrid.FacetGrid at 0x1da5c706970>"
      ]
     },
     "execution_count": 25,
     "metadata": {},
     "output_type": "execute_result"
    },
    {
     "data": {
      "image/png": "[encoded data removed]",
      "text/plain": [
       "<Figure size 930.125x216 with 1 Axes>"
      ]
     },
     "metadata": {},
     "output_type": "display_data"
    }
   ],
   "source": [
    "fig = sns.FacetGrid(credit, hue='SEX', aspect=4)\n",
    "fig.map(sns.kdeplot, 'LIMIT_BAL', shade=True)\n",
    "fig.add_legend()"
   ]
  },
  {
   "cell_type": "markdown",
   "metadata": {},
   "source": [
    "###### Draw a box plot between Balance and default_ind to see if there is any relationship\n",
    "###### From the Boxplot below, we can see that if the balance is higher, there is a slightly lower chance of defaulting"
   ]
  },
  {
   "cell_type": "code",
   "execution_count": 26,
   "metadata": {},
   "outputs": [
    {
     "data": {
      "text/plain": [
       "[Text(0, 0, '0'),\n",
       " Text(0, 0, '$0'),\n",
       " Text(0, 0, '$200000'),\n",
       " Text(0, 0, '$400000'),\n",
       " Text(0, 0, '$600000'),\n",
       " Text(0, 0, '$800000'),\n",
       " Text(0, 0, '$1000000')]"
      ]
     },
     "execution_count": 26,
     "metadata": {},
     "output_type": "execute_result"
    },
    {
     "data": {
      "image/png": "[encoded data removed]",
      "text/plain": [
       "<Figure size 576x396 with 1 Axes>"
      ]
     },
     "metadata": {},
     "output_type": "display_data"
    }
   ],
   "source": [
    "fg = sns.boxplot(credit['default payment next month'], credit['LIMIT_BAL'])\n",
    "fg.set(xlabel = 'Default on Paymen Next Month', ylabel = 'Credit Limit')\n",
    "fg.set (title = 'Box Plot to show Relationship between Credit Limit and Payment Default')\n",
    "fg.yaxis.set_ticklabels([0, '$0', '$200000', '$400000', '$600000', '$800000', '$1000000'])"
   ]
  },
  {
   "cell_type": "code",
   "execution_count": 27,
   "metadata": {},
   "outputs": [
    {
     "name": "stdout",
     "output_type": "stream",
     "text": [
      "<a list of 2 Text major ticklabel objects>\n"
     ]
    }
   ],
   "source": [
    "print(fg.xaxis.get_ticklabels())"
   ]
  },
  {
   "cell_type": "markdown",
   "metadata": {},
   "source": [
    "###### Draw a catplot between discretized limit bal and payment default"
   ]
  },
  {
   "cell_type": "code",
   "execution_count": 28,
   "metadata": {},
   "outputs": [
    {
     "data": {
      "text/plain": [
       "<seaborn.axisgrid.FacetGrid at 0x1da5c757430>"
      ]
     },
     "execution_count": 28,
     "metadata": {},
     "output_type": "execute_result"
    },
    {
     "data": {
      "image/png": "[encoded data removed]",
      "text/plain": [
       "<Figure size 474.75x360 with 1 Axes>"
      ]
     },
     "metadata": {},
     "output_type": "display_data"
    }
   ],
   "source": [
    "sns.catplot('default payment next month', data = credit, hue = 'limit_bal_bins', kind = 'count')"
   ]
  },
  {
   "cell_type": "markdown",
   "metadata": {},
   "source": [
    "###### Create a pivot table with the same data"
   ]
  },
  {
   "cell_type": "code",
   "execution_count": 29,
   "metadata": {},
   "outputs": [
    {
     "data": {
      "text/html": [
       "<div>\n",
       "<style scoped>\n",
       "    .dataframe tbody tr th:only-of-type {\n",
       "        vertical-align: middle;\n",
       "    }\n",
       "\n",
       "    .dataframe tbody tr th {\n",
       "        vertical-align: top;\n",
       "    }\n",
       "\n",
       "    .dataframe thead th {\n",
       "        text-align: right;\n",
       "    }\n",
       "</style>\n",
       "<table border=\"1\" class=\"dataframe\">\n",
       "  <thead>\n",
       "    <tr style=\"text-align: right;\">\n",
       "      <th>limit_bal_bins</th>\n",
       "      <th>below $200K</th>\n",
       "      <th>$200K to 400K</th>\n",
       "      <th>$400K to 600K</th>\n",
       "      <th>$600K and above</th>\n",
       "      <th>All</th>\n",
       "    </tr>\n",
       "    <tr>\n",
       "      <th>default payment next month</th>\n",
       "      <th></th>\n",
       "      <th></th>\n",
       "      <th></th>\n",
       "      <th></th>\n",
       "      <th></th>\n",
       "    </tr>\n",
       "  </thead>\n",
       "  <tbody>\n",
       "    <tr>\n",
       "      <th>default</th>\n",
       "      <td>5219</td>\n",
       "      <td>1200</td>\n",
       "      <td>211</td>\n",
       "      <td>6</td>\n",
       "      <td>6636</td>\n",
       "    </tr>\n",
       "    <tr>\n",
       "      <th>not default</th>\n",
       "      <td>15159</td>\n",
       "      <td>6618</td>\n",
       "      <td>1514</td>\n",
       "      <td>73</td>\n",
       "      <td>23364</td>\n",
       "    </tr>\n",
       "    <tr>\n",
       "      <th>All</th>\n",
       "      <td>20378</td>\n",
       "      <td>7818</td>\n",
       "      <td>1725</td>\n",
       "      <td>79</td>\n",
       "      <td>30000</td>\n",
       "    </tr>\n",
       "  </tbody>\n",
       "</table>\n",
       "</div>"
      ],
      "text/plain": [
       "limit_bal_bins              below $200K  $200K to 400K  $400K to 600K  \\\n",
       "default payment next month                                              \n",
       "default                            5219           1200            211   \n",
       "not default                       15159           6618           1514   \n",
       "All                               20378           7818           1725   \n",
       "\n",
       "limit_bal_bins              $600K and above    All  \n",
       "default payment next month                          \n",
       "default                                   6   6636  \n",
       "not default                              73  23364  \n",
       "All                                      79  30000  "
      ]
     },
     "execution_count": 29,
     "metadata": {},
     "output_type": "execute_result"
    }
   ],
   "source": [
    "credit.pivot_table(index = 'default payment next month', \n",
    "                   columns = 'limit_bal_bins', \n",
    "                   values = 'ID', \n",
    "                   aggfunc = 'count',\n",
    "                   margins = True)"
   ]
  },
  {
   "cell_type": "markdown",
   "metadata": {},
   "source": [
    "###### Get the percentages instead of counts in the table using crosstab. The data indicates there is a higher chance of defaulting for lower amounts than for higher balance amounts"
   ]
  },
  {
   "cell_type": "code",
   "execution_count": 30,
   "metadata": {},
   "outputs": [
    {
     "data": {
      "text/html": [
       "<div>\n",
       "<style scoped>\n",
       "    .dataframe tbody tr th:only-of-type {\n",
       "        vertical-align: middle;\n",
       "    }\n",
       "\n",
       "    .dataframe tbody tr th {\n",
       "        vertical-align: top;\n",
       "    }\n",
       "\n",
       "    .dataframe thead th {\n",
       "        text-align: right;\n",
       "    }\n",
       "</style>\n",
       "<table border=\"1\" class=\"dataframe\">\n",
       "  <thead>\n",
       "    <tr style=\"text-align: right;\">\n",
       "      <th>limit_bal_bins</th>\n",
       "      <th>below $200K</th>\n",
       "      <th>$200K to 400K</th>\n",
       "      <th>$400K to 600K</th>\n",
       "      <th>$600K and above</th>\n",
       "    </tr>\n",
       "    <tr>\n",
       "      <th>default payment next month</th>\n",
       "      <th></th>\n",
       "      <th></th>\n",
       "      <th></th>\n",
       "      <th></th>\n",
       "    </tr>\n",
       "  </thead>\n",
       "  <tbody>\n",
       "    <tr>\n",
       "      <th>default</th>\n",
       "      <td>25.61%</td>\n",
       "      <td>15.35%</td>\n",
       "      <td>12.23%</td>\n",
       "      <td>7.59%</td>\n",
       "    </tr>\n",
       "    <tr>\n",
       "      <th>not default</th>\n",
       "      <td>74.39%</td>\n",
       "      <td>84.65%</td>\n",
       "      <td>87.77%</td>\n",
       "      <td>92.41%</td>\n",
       "    </tr>\n",
       "  </tbody>\n",
       "</table>\n",
       "</div>"
      ],
      "text/plain": [
       "limit_bal_bins             below $200K $200K to 400K $400K to 600K  \\\n",
       "default payment next month                                           \n",
       "default                         25.61%        15.35%        12.23%   \n",
       "not default                     74.39%        84.65%        87.77%   \n",
       "\n",
       "limit_bal_bins             $600K and above  \n",
       "default payment next month                  \n",
       "default                              7.59%  \n",
       "not default                         92.41%  "
      ]
     },
     "execution_count": 30,
     "metadata": {},
     "output_type": "execute_result"
    }
   ],
   "source": [
    "pd.crosstab(index = credit['default payment next month'], \n",
    "            columns = credit['limit_bal_bins'],\n",
    "            normalize = 'columns').applymap(lambda x: \"{0:.2f}%\".format(100*x))"
   ]
  },
  {
   "cell_type": "markdown",
   "metadata": {},
   "source": [
    "#### Feature: SEX. "
   ]
  },
  {
   "cell_type": "code",
   "execution_count": 31,
   "metadata": {},
   "outputs": [
    {
     "data": {
      "text/plain": [
       "count      30000\n",
       "unique         2\n",
       "top       female\n",
       "freq       18112\n",
       "Name: SEX, dtype: object"
      ]
     },
     "execution_count": 31,
     "metadata": {},
     "output_type": "execute_result"
    }
   ],
   "source": [
    "credit.SEX.describe()"
   ]
  },
  {
   "cell_type": "markdown",
   "metadata": {},
   "source": [
    "###### How many customers of each gender do we have"
   ]
  },
  {
   "cell_type": "code",
   "execution_count": 32,
   "metadata": {},
   "outputs": [
    {
     "data": {
      "text/plain": [
       "female    18112\n",
       "male      11888\n",
       "Name: SEX, dtype: int64"
      ]
     },
     "execution_count": 32,
     "metadata": {},
     "output_type": "execute_result"
    }
   ],
   "source": [
    "credit['SEX'].value_counts()"
   ]
  },
  {
   "cell_type": "markdown",
   "metadata": {},
   "source": [
    "###### Plot a histogram for SEX"
   ]
  },
  {
   "cell_type": "code",
   "execution_count": 33,
   "metadata": {},
   "outputs": [
    {
     "data": {
      "text/plain": [
       "(array([18112.,     0.,     0.,     0.,     0.,     0.,     0.,     0.,\n",
       "            0., 11888.]),\n",
       " array([0. , 0.1, 0.2, 0.3, 0.4, 0.5, 0.6, 0.7, 0.8, 0.9, 1. ]),\n",
       " <a list of 10 Patch objects>)"
      ]
     },
     "execution_count": 33,
     "metadata": {},
     "output_type": "execute_result"
    },
    {
     "data": {
      "image/png": "[encoded data removed]",
      "text/plain": [
       "<Figure size 576x396 with 1 Axes>"
      ]
     },
     "metadata": {},
     "output_type": "display_data"
    }
   ],
   "source": [
    "plt.hist(credit['SEX'])"
   ]
  },
  {
   "cell_type": "markdown",
   "metadata": {},
   "source": [
    "###### Draw a catplot to check how many male/female customers default on payments \n",
    "###### We can see that a higher percentage of male customers default compared to females."
   ]
  },
  {
   "cell_type": "code",
   "execution_count": 34,
   "metadata": {},
   "outputs": [
    {
     "data": {
      "image/png": "[encoded data removed]",
      "text/plain": [
       "<Figure size 426.125x360 with 1 Axes>"
      ]
     },
     "metadata": {},
     "output_type": "display_data"
    }
   ],
   "source": [
    "fg = sns.catplot('default payment next month', data = credit, hue = 'SEX', kind = 'count')"
   ]
  },
  {
   "cell_type": "markdown",
   "metadata": {},
   "source": [
    "###### Create a crosstab of percentages for default behaviour across gender"
   ]
  },
  {
   "cell_type": "code",
   "execution_count": 35,
   "metadata": {},
   "outputs": [
    {
     "data": {
      "text/html": [
       "<div>\n",
       "<style scoped>\n",
       "    .dataframe tbody tr th:only-of-type {\n",
       "        vertical-align: middle;\n",
       "    }\n",
       "\n",
       "    .dataframe tbody tr th {\n",
       "        vertical-align: top;\n",
       "    }\n",
       "\n",
       "    .dataframe thead th {\n",
       "        text-align: right;\n",
       "    }\n",
       "</style>\n",
       "<table border=\"1\" class=\"dataframe\">\n",
       "  <thead>\n",
       "    <tr style=\"text-align: right;\">\n",
       "      <th>SEX</th>\n",
       "      <th>female</th>\n",
       "      <th>male</th>\n",
       "    </tr>\n",
       "    <tr>\n",
       "      <th>default payment next month</th>\n",
       "      <th></th>\n",
       "      <th></th>\n",
       "    </tr>\n",
       "  </thead>\n",
       "  <tbody>\n",
       "    <tr>\n",
       "      <th>default</th>\n",
       "      <td>20.78%</td>\n",
       "      <td>24.17%</td>\n",
       "    </tr>\n",
       "    <tr>\n",
       "      <th>not default</th>\n",
       "      <td>79.22%</td>\n",
       "      <td>75.83%</td>\n",
       "    </tr>\n",
       "  </tbody>\n",
       "</table>\n",
       "</div>"
      ],
      "text/plain": [
       "SEX                         female    male\n",
       "default payment next month                \n",
       "default                     20.78%  24.17%\n",
       "not default                 79.22%  75.83%"
      ]
     },
     "execution_count": 35,
     "metadata": {},
     "output_type": "execute_result"
    }
   ],
   "source": [
    "pd.crosstab(index = credit['default payment next month'], \n",
    "            columns = credit['SEX'],\n",
    "            normalize = 'columns').applymap(lambda x: \"{0:.2f}%\".format(100*x))"
   ]
  },
  {
   "cell_type": "code",
   "execution_count": 36,
   "metadata": {},
   "outputs": [
    {
     "data": {
      "image/png": "[encoded data removed]",
      "text/plain": [
       "<Figure size 288x360 with 1 Axes>"
      ]
     },
     "metadata": {},
     "output_type": "display_data"
    }
   ],
   "source": [
    "# plot a stacked chart to break up payment default info across gender.\n",
    "plt.style.use('ggplot')                                                          \n",
    "edu_stack_plot = credit.groupby(['SEX','default payment next month'])['ID'].count().unstack('default payment next month')\n",
    "ax = edu_stack_plot.plot(kind = 'bar', \n",
    "                          stacked = True, \n",
    "                          title = 'Default Behaviour across Gender', \n",
    "                          figsize = (4, 5))\n",
    "ax.set_xlabel('Gender')\n",
    "ax.set_ylabel('Number of Customers')\n",
    "\n",
    "\n",
    "#create a varray to house the total height of each of the 4 bars\n",
    "# this will be used to calculate the height % to display in each of the patches\n",
    "tot = [0, 0]\n",
    "\n",
    "# calculate the total height of each of the 2 bars\n",
    "for i, p in enumerate(ax.patches):\n",
    "    if i % 2 == 0 :\n",
    "        tot[0] = tot[0] +  p.get_height()\n",
    "    elif i % 2 == 1 :\n",
    "        tot[1] = tot[1] +  p.get_height()\n",
    "\n",
    "# now annotate each patch with the percentage of transactions\n",
    "for i, p in enumerate(ax.patches):\n",
    "    width, height = p.get_width(), p.get_height()\n",
    "    px, py = p.get_x(), p.get_y()\n",
    "    \n",
    "    #calculate height percentage of each patch\n",
    "    if i % 2 == 0 :\n",
    "        ht_pct = round((p.get_height()/tot[0]), 4)\n",
    "    elif i % 2 == 1 :\n",
    "        ht_pct = round((p.get_height()/tot[1]), 4)\n",
    "\n",
    "    ax.text(px+width/2, \n",
    "            py+height/2,\n",
    "            \"{:.2%}\".format(ht_pct),\n",
    "            horizontalalignment='center', \n",
    "            verticalalignment='center')"
   ]
  },
  {
   "cell_type": "markdown",
   "metadata": {},
   "source": [
    "#### Feature: EDUCATION"
   ]
  },
  {
   "cell_type": "markdown",
   "metadata": {},
   "source": [
    "###### Plot a histogram"
   ]
  },
  {
   "cell_type": "code",
   "execution_count": 37,
   "metadata": {},
   "outputs": [
    {
     "data": {
      "text/plain": [
       "(array([14030.,     0.,     0., 10585.,     0.,     0.,  4917.,     0.,\n",
       "            0.,   468.]),\n",
       " array([0. , 0.3, 0.6, 0.9, 1.2, 1.5, 1.8, 2.1, 2.4, 2.7, 3. ]),\n",
       " <a list of 10 Patch objects>)"
      ]
     },
     "execution_count": 37,
     "metadata": {},
     "output_type": "execute_result"
    },
    {
     "data": {
      "image/png": "[encoded data removed]",
      "text/plain": [
       "<Figure size 576x396 with 1 Axes>"
      ]
     },
     "metadata": {},
     "output_type": "display_data"
    }
   ],
   "source": [
    "plt.hist(credit['EDUCATION'])"
   ]
  },
  {
   "cell_type": "markdown",
   "metadata": {},
   "source": [
    "###### what are the counts of defaults across education?"
   ]
  },
  {
   "cell_type": "code",
   "execution_count": 38,
   "metadata": {},
   "outputs": [
    {
     "data": {
      "text/plain": [
       "EDUCATION        default payment next month\n",
       "graduate school  default                        2036\n",
       "                 not default                    8549\n",
       "high school      default                        1237\n",
       "                 not default                    3680\n",
       "other            default                          33\n",
       "                 not default                     435\n",
       "university       default                        3330\n",
       "                 not default                   10700\n",
       "Name: ID, dtype: int64"
      ]
     },
     "execution_count": 38,
     "metadata": {},
     "output_type": "execute_result"
    }
   ],
   "source": [
    "credit.groupby(['EDUCATION','default payment next month'])['ID'].count()"
   ]
  },
  {
   "cell_type": "markdown",
   "metadata": {},
   "source": [
    "###### Create a Pivot Table"
   ]
  },
  {
   "cell_type": "code",
   "execution_count": 39,
   "metadata": {},
   "outputs": [
    {
     "data": {
      "text/html": [
       "<div>\n",
       "<style scoped>\n",
       "    .dataframe tbody tr th:only-of-type {\n",
       "        vertical-align: middle;\n",
       "    }\n",
       "\n",
       "    .dataframe tbody tr th {\n",
       "        vertical-align: top;\n",
       "    }\n",
       "\n",
       "    .dataframe thead th {\n",
       "        text-align: right;\n",
       "    }\n",
       "</style>\n",
       "<table border=\"1\" class=\"dataframe\">\n",
       "  <thead>\n",
       "    <tr style=\"text-align: right;\">\n",
       "      <th>EDUCATION</th>\n",
       "      <th>graduate school</th>\n",
       "      <th>high school</th>\n",
       "      <th>other</th>\n",
       "      <th>university</th>\n",
       "      <th>All</th>\n",
       "    </tr>\n",
       "    <tr>\n",
       "      <th>default payment next month</th>\n",
       "      <th></th>\n",
       "      <th></th>\n",
       "      <th></th>\n",
       "      <th></th>\n",
       "      <th></th>\n",
       "    </tr>\n",
       "  </thead>\n",
       "  <tbody>\n",
       "    <tr>\n",
       "      <th>default</th>\n",
       "      <td>2036</td>\n",
       "      <td>1237</td>\n",
       "      <td>33</td>\n",
       "      <td>3330</td>\n",
       "      <td>6636</td>\n",
       "    </tr>\n",
       "    <tr>\n",
       "      <th>not default</th>\n",
       "      <td>8549</td>\n",
       "      <td>3680</td>\n",
       "      <td>435</td>\n",
       "      <td>10700</td>\n",
       "      <td>23364</td>\n",
       "    </tr>\n",
       "    <tr>\n",
       "      <th>All</th>\n",
       "      <td>10585</td>\n",
       "      <td>4917</td>\n",
       "      <td>468</td>\n",
       "      <td>14030</td>\n",
       "      <td>30000</td>\n",
       "    </tr>\n",
       "  </tbody>\n",
       "</table>\n",
       "</div>"
      ],
      "text/plain": [
       "EDUCATION                   graduate school  high school  other  university  \\\n",
       "default payment next month                                                    \n",
       "default                                2036         1237     33        3330   \n",
       "not default                            8549         3680    435       10700   \n",
       "All                                   10585         4917    468       14030   \n",
       "\n",
       "EDUCATION                     All  \n",
       "default payment next month         \n",
       "default                      6636  \n",
       "not default                 23364  \n",
       "All                         30000  "
      ]
     },
     "execution_count": 39,
     "metadata": {},
     "output_type": "execute_result"
    }
   ],
   "source": [
    "# depict the same information in a Pivot table\n",
    "credit.pivot_table(index = 'default payment next month', \n",
    "                   columns = 'EDUCATION', \n",
    "                   values = 'ID', \n",
    "                   aggfunc = 'count',\n",
    "                   margins = True)"
   ]
  },
  {
   "cell_type": "markdown",
   "metadata": {},
   "source": [
    "###### Create a stacked bar chart with percentages annotated to check defaults across education levels. The chart shows that chances of defaulting reduce as education level increases, assuming education level as : high school, university and graduate school. Note: I am ignoring other here"
   ]
  },
  {
   "cell_type": "code",
   "execution_count": 40,
   "metadata": {},
   "outputs": [
    {
     "data": {
      "image/png": "[encoded data removed]",
      "text/plain": [
       "<Figure size 432x720 with 1 Axes>"
      ]
     },
     "metadata": {},
     "output_type": "display_data"
    }
   ],
   "source": [
    "# plot a stacked chart to break up payment default info across education levels.\n",
    "plt.style.use('ggplot')                                                          \n",
    "edu_stack_plot = credit.groupby(['EDUCATION','default payment next month'])['ID'].count().unstack('default payment next month')\n",
    "ax = edu_stack_plot.plot(kind = 'bar', \n",
    "                          stacked = True, \n",
    "                          title = 'Default Behaviour across Education Levels', \n",
    "                          figsize = (6, 10))\n",
    "ax.set_xlabel('Education Levels')\n",
    "ax.set_ylabel('Number of Customers')\n",
    "\n",
    "\n",
    "#create a varray to house the total height of each of the 4 bars\n",
    "# this will be used to calculate the height % to display in each of the patches\n",
    "tot = [0, 0, 0, 0]\n",
    "\n",
    "# calculate the total height of each of the 4 bars\n",
    "for i, p in enumerate(ax.patches):\n",
    "    if i % 4 == 0 :\n",
    "        tot[0] = tot[0] +  p.get_height()\n",
    "    elif i % 4 == 1 :\n",
    "        tot[1] = tot[1] +  p.get_height()\n",
    "    elif i % 4 == 2 :\n",
    "        tot[2] = tot[2] +  p.get_height()\n",
    "    elif i % 4 == 3 :\n",
    "        tot[3] = tot[3] +  p.get_height()\n",
    "\n",
    "# now annotate each patch with the percentage of transactions\n",
    "for i, p in enumerate(ax.patches):\n",
    "    width, height = p.get_width(), p.get_height()\n",
    "    px, py = p.get_x(), p.get_y()\n",
    "    \n",
    "    #calculate height percentage of each patch\n",
    "    if i % 4 == 0 :\n",
    "        ht_pct = round((p.get_height()/tot[0]), 4)\n",
    "    elif i % 4 == 1 :\n",
    "        ht_pct = round((p.get_height()/tot[1]), 4)\n",
    "    elif i % 4 == 2 :\n",
    "        ht_pct = round((p.get_height()/tot[2]), 4)\n",
    "    elif i % 4 == 3 :\n",
    "        ht_pct = round((p.get_height()/tot[3]), 4)\n",
    "\n",
    "    ax.text(px+width/2, \n",
    "            py+height/2,\n",
    "            \"{:.2%}\".format(ht_pct),\n",
    "            horizontalalignment='center', \n",
    "            verticalalignment='center')"
   ]
  },
  {
   "cell_type": "code",
   "execution_count": 41,
   "metadata": {},
   "outputs": [
    {
     "data": {
      "text/html": [
       "<div>\n",
       "<style scoped>\n",
       "    .dataframe tbody tr th:only-of-type {\n",
       "        vertical-align: middle;\n",
       "    }\n",
       "\n",
       "    .dataframe tbody tr th {\n",
       "        vertical-align: top;\n",
       "    }\n",
       "\n",
       "    .dataframe thead th {\n",
       "        text-align: right;\n",
       "    }\n",
       "</style>\n",
       "<table border=\"1\" class=\"dataframe\">\n",
       "  <thead>\n",
       "    <tr style=\"text-align: right;\">\n",
       "      <th>EDUCATION</th>\n",
       "      <th>graduate school</th>\n",
       "      <th>high school</th>\n",
       "      <th>other</th>\n",
       "      <th>university</th>\n",
       "    </tr>\n",
       "    <tr>\n",
       "      <th>default payment next month</th>\n",
       "      <th></th>\n",
       "      <th></th>\n",
       "      <th></th>\n",
       "      <th></th>\n",
       "    </tr>\n",
       "  </thead>\n",
       "  <tbody>\n",
       "    <tr>\n",
       "      <th>default</th>\n",
       "      <td>19.23%</td>\n",
       "      <td>25.16%</td>\n",
       "      <td>7.05%</td>\n",
       "      <td>23.73%</td>\n",
       "    </tr>\n",
       "    <tr>\n",
       "      <th>not default</th>\n",
       "      <td>80.77%</td>\n",
       "      <td>74.84%</td>\n",
       "      <td>92.95%</td>\n",
       "      <td>76.27%</td>\n",
       "    </tr>\n",
       "  </tbody>\n",
       "</table>\n",
       "</div>"
      ],
      "text/plain": [
       "EDUCATION                  graduate school high school   other university\n",
       "default payment next month                                               \n",
       "default                             19.23%      25.16%   7.05%     23.73%\n",
       "not default                         80.77%      74.84%  92.95%     76.27%"
      ]
     },
     "execution_count": 41,
     "metadata": {},
     "output_type": "execute_result"
    }
   ],
   "source": [
    "# create a crosstab to see a tabular version of the same information\n",
    "pd.crosstab(index = credit['default payment next month'], \n",
    "            columns = credit['EDUCATION'],\n",
    "            normalize = 'columns').applymap(lambda x: \"{0:.2f}%\".format(100*x))"
   ]
  },
  {
   "cell_type": "markdown",
   "metadata": {},
   "source": [
    "#### Feature: MARRIAGE"
   ]
  },
  {
   "cell_type": "markdown",
   "metadata": {},
   "source": [
    "###### Plot a histogram first to check distribution of marital status across customers"
   ]
  },
  {
   "cell_type": "code",
   "execution_count": 42,
   "metadata": {},
   "outputs": [
    {
     "data": {
      "text/plain": [
       "<matplotlib.axes._subplots.AxesSubplot at 0x1da5da91970>"
      ]
     },
     "execution_count": 42,
     "metadata": {},
     "output_type": "execute_result"
    },
    {
     "data": {
      "image/png": "[encoded data removed]",
      "text/plain": [
       "<Figure size 576x396 with 1 Axes>"
      ]
     },
     "metadata": {},
     "output_type": "display_data"
    }
   ],
   "source": [
    "credit['MARRIAGE_LABEL'].hist()"
   ]
  },
  {
   "cell_type": "markdown",
   "metadata": {},
   "source": [
    "###### Stacked bar chart for default behaviour across Marital status. Seems married customers a more likely to default than single. "
   ]
  },
  {
   "cell_type": "code",
   "execution_count": 43,
   "metadata": {},
   "outputs": [
    {
     "data": {
      "text/plain": [
       "Text(0, 0.5, 'Marital Status Levels')"
      ]
     },
     "execution_count": 43,
     "metadata": {},
     "output_type": "execute_result"
    },
    {
     "data": {
      "image/png": "[encoded data removed]",
      "text/plain": [
       "<Figure size 1296x288 with 1 Axes>"
      ]
     },
     "metadata": {},
     "output_type": "display_data"
    }
   ],
   "source": [
    "# Plot a stacked bar chart to see default behaviour across marital status\n",
    "marr_stack_plot = credit.groupby(['MARRIAGE_LABEL','default payment next month'])['ID'].count().unstack('default payment next month')\n",
    "ax = marr_stack_plot.plot(kind = 'barh', \n",
    "                          stacked = True, \n",
    "                          title = 'Default Behaviour across Marital Status Levels', \n",
    "                          figsize = (18, 4))\n",
    "ax.set_xlabel('Number of Customers')\n",
    "ax.set_ylabel('Marital Status Levels')"
   ]
  },
  {
   "cell_type": "markdown",
   "metadata": {},
   "source": [
    "###### Is there any pattern for defaulting across marital status and education. Create a crosstab table to see percentages of default across marriage status? The normalize parameter helps us see percentages in the decimal form. Ffrom the crosstab below, divorced customers are more likely to default than married customers."
   ]
  },
  {
   "cell_type": "code",
   "execution_count": 44,
   "metadata": {},
   "outputs": [
    {
     "data": {
      "text/html": [
       "<div>\n",
       "<style scoped>\n",
       "    .dataframe tbody tr th:only-of-type {\n",
       "        vertical-align: middle;\n",
       "    }\n",
       "\n",
       "    .dataframe tbody tr th {\n",
       "        vertical-align: top;\n",
       "    }\n",
       "\n",
       "    .dataframe thead th {\n",
       "        text-align: right;\n",
       "    }\n",
       "</style>\n",
       "<table border=\"1\" class=\"dataframe\">\n",
       "  <thead>\n",
       "    <tr style=\"text-align: right;\">\n",
       "      <th>MARRIAGE_LABEL</th>\n",
       "      <th>Divorced</th>\n",
       "      <th>Married</th>\n",
       "      <th>Others</th>\n",
       "      <th>Single</th>\n",
       "    </tr>\n",
       "    <tr>\n",
       "      <th>default payment next month</th>\n",
       "      <th></th>\n",
       "      <th></th>\n",
       "      <th></th>\n",
       "      <th></th>\n",
       "    </tr>\n",
       "  </thead>\n",
       "  <tbody>\n",
       "    <tr>\n",
       "      <th>default</th>\n",
       "      <td>26.01%</td>\n",
       "      <td>23.47%</td>\n",
       "      <td>9.26%</td>\n",
       "      <td>20.93%</td>\n",
       "    </tr>\n",
       "    <tr>\n",
       "      <th>not default</th>\n",
       "      <td>73.99%</td>\n",
       "      <td>76.53%</td>\n",
       "      <td>90.74%</td>\n",
       "      <td>79.07%</td>\n",
       "    </tr>\n",
       "  </tbody>\n",
       "</table>\n",
       "</div>"
      ],
      "text/plain": [
       "MARRIAGE_LABEL             Divorced Married  Others  Single\n",
       "default payment next month                                 \n",
       "default                      26.01%  23.47%   9.26%  20.93%\n",
       "not default                  73.99%  76.53%  90.74%  79.07%"
      ]
     },
     "execution_count": 44,
     "metadata": {},
     "output_type": "execute_result"
    }
   ],
   "source": [
    "pd.crosstab(index = credit['default payment next month'], \n",
    "            columns = credit['MARRIAGE_LABEL'],\n",
    "            normalize = 'columns').applymap(lambda x: \"{0:.2f}%\".format(100*x))"
   ]
  },
  {
   "cell_type": "markdown",
   "metadata": {},
   "source": [
    "###### Break up the cross tab further at education level and see if there are additional insights"
   ]
  },
  {
   "cell_type": "code",
   "execution_count": 45,
   "metadata": {},
   "outputs": [
    {
     "data": {
      "text/html": [
       "<div>\n",
       "<style scoped>\n",
       "    .dataframe tbody tr th:only-of-type {\n",
       "        vertical-align: middle;\n",
       "    }\n",
       "\n",
       "    .dataframe tbody tr th {\n",
       "        vertical-align: top;\n",
       "    }\n",
       "\n",
       "    .dataframe thead tr th {\n",
       "        text-align: left;\n",
       "    }\n",
       "\n",
       "    .dataframe thead tr:last-of-type th {\n",
       "        text-align: right;\n",
       "    }\n",
       "</style>\n",
       "<table border=\"1\" class=\"dataframe\">\n",
       "  <thead>\n",
       "    <tr>\n",
       "      <th>MARRIAGE_LABEL</th>\n",
       "      <th colspan=\"4\" halign=\"left\">Divorced</th>\n",
       "      <th colspan=\"4\" halign=\"left\">Married</th>\n",
       "      <th colspan=\"3\" halign=\"left\">Others</th>\n",
       "      <th colspan=\"4\" halign=\"left\">Single</th>\n",
       "    </tr>\n",
       "    <tr>\n",
       "      <th>EDUCATION</th>\n",
       "      <th>graduate school</th>\n",
       "      <th>high school</th>\n",
       "      <th>other</th>\n",
       "      <th>university</th>\n",
       "      <th>graduate school</th>\n",
       "      <th>high school</th>\n",
       "      <th>other</th>\n",
       "      <th>university</th>\n",
       "      <th>graduate school</th>\n",
       "      <th>high school</th>\n",
       "      <th>university</th>\n",
       "      <th>graduate school</th>\n",
       "      <th>high school</th>\n",
       "      <th>other</th>\n",
       "      <th>university</th>\n",
       "    </tr>\n",
       "    <tr>\n",
       "      <th>default payment next month</th>\n",
       "      <th></th>\n",
       "      <th></th>\n",
       "      <th></th>\n",
       "      <th></th>\n",
       "      <th></th>\n",
       "      <th></th>\n",
       "      <th></th>\n",
       "      <th></th>\n",
       "      <th></th>\n",
       "      <th></th>\n",
       "      <th></th>\n",
       "      <th></th>\n",
       "      <th></th>\n",
       "      <th></th>\n",
       "      <th></th>\n",
       "    </tr>\n",
       "  </thead>\n",
       "  <tbody>\n",
       "    <tr>\n",
       "      <th>default</th>\n",
       "      <td>0.26</td>\n",
       "      <td>0.262136</td>\n",
       "      <td>0.0</td>\n",
       "      <td>0.271605</td>\n",
       "      <td>0.206609</td>\n",
       "      <td>0.263544</td>\n",
       "      <td>0.07265</td>\n",
       "      <td>0.243496</td>\n",
       "      <td>0.0</td>\n",
       "      <td>0.090909</td>\n",
       "      <td>0.166667</td>\n",
       "      <td>0.184168</td>\n",
       "      <td>0.236773</td>\n",
       "      <td>0.070796</td>\n",
       "      <td>0.230627</td>\n",
       "    </tr>\n",
       "    <tr>\n",
       "      <th>not default</th>\n",
       "      <td>0.74</td>\n",
       "      <td>0.737864</td>\n",
       "      <td>1.0</td>\n",
       "      <td>0.728395</td>\n",
       "      <td>0.793391</td>\n",
       "      <td>0.736456</td>\n",
       "      <td>0.92735</td>\n",
       "      <td>0.756504</td>\n",
       "      <td>1.0</td>\n",
       "      <td>0.909091</td>\n",
       "      <td>0.833333</td>\n",
       "      <td>0.815832</td>\n",
       "      <td>0.763227</td>\n",
       "      <td>0.929204</td>\n",
       "      <td>0.769373</td>\n",
       "    </tr>\n",
       "  </tbody>\n",
       "</table>\n",
       "</div>"
      ],
      "text/plain": [
       "MARRIAGE_LABEL                    Divorced                               \\\n",
       "EDUCATION                  graduate school high school other university   \n",
       "default payment next month                                                \n",
       "default                               0.26    0.262136   0.0   0.271605   \n",
       "not default                           0.74    0.737864   1.0   0.728395   \n",
       "\n",
       "MARRIAGE_LABEL                     Married                                  \\\n",
       "EDUCATION                  graduate school high school    other university   \n",
       "default payment next month                                                   \n",
       "default                           0.206609    0.263544  0.07265   0.243496   \n",
       "not default                       0.793391    0.736456  0.92735   0.756504   \n",
       "\n",
       "MARRIAGE_LABEL                      Others                         \\\n",
       "EDUCATION                  graduate school high school university   \n",
       "default payment next month                                          \n",
       "default                                0.0    0.090909   0.166667   \n",
       "not default                            1.0    0.909091   0.833333   \n",
       "\n",
       "MARRIAGE_LABEL                      Single                                   \n",
       "EDUCATION                  graduate school high school     other university  \n",
       "default payment next month                                                   \n",
       "default                           0.184168    0.236773  0.070796   0.230627  \n",
       "not default                       0.815832    0.763227  0.929204   0.769373  "
      ]
     },
     "execution_count": 45,
     "metadata": {},
     "output_type": "execute_result"
    }
   ],
   "source": [
    "pd.crosstab(index = credit['default payment next month'], \n",
    "            columns = [credit['MARRIAGE_LABEL'], credit['EDUCATION']],\n",
    "            normalize = 'columns')"
   ]
  },
  {
   "cell_type": "markdown",
   "metadata": {},
   "source": [
    "#### Feature: AGE"
   ]
  },
  {
   "cell_type": "markdown",
   "metadata": {},
   "source": [
    "###### What are the min, max, mean values"
   ]
  },
  {
   "cell_type": "code",
   "execution_count": 46,
   "metadata": {},
   "outputs": [
    {
     "data": {
      "text/plain": [
       "count    30000.000000\n",
       "mean        35.485500\n",
       "std          9.217904\n",
       "min         21.000000\n",
       "25%         28.000000\n",
       "50%         34.000000\n",
       "75%         41.000000\n",
       "max         79.000000\n",
       "Name: AGE, dtype: float64"
      ]
     },
     "execution_count": 46,
     "metadata": {},
     "output_type": "execute_result"
    }
   ],
   "source": [
    "credit.AGE.describe()"
   ]
  },
  {
   "cell_type": "markdown",
   "metadata": {},
   "source": [
    "###### Histogram for age"
   ]
  },
  {
   "cell_type": "code",
   "execution_count": 47,
   "metadata": {},
   "outputs": [
    {
     "data": {
      "text/plain": [
       "(array([5.127e+03, 8.261e+03, 6.514e+03, 4.812e+03, 2.606e+03, 1.836e+03,\n",
       "        6.280e+02, 1.710e+02, 4.000e+01, 5.000e+00]),\n",
       " array([21. , 26.8, 32.6, 38.4, 44.2, 50. , 55.8, 61.6, 67.4, 73.2, 79. ]),\n",
       " <a list of 10 Patch objects>)"
      ]
     },
     "execution_count": 47,
     "metadata": {},
     "output_type": "execute_result"
    },
    {
     "data": {
      "image/png": "[encoded data removed]",
      "text/plain": [
       "<Figure size 576x396 with 1 Axes>"
      ]
     },
     "metadata": {},
     "output_type": "display_data"
    }
   ],
   "source": [
    "# plot a histogram of the age\n",
    "plt.hist(credit['AGE'])"
   ]
  },
  {
   "cell_type": "markdown",
   "metadata": {},
   "source": [
    "###### Scatter plot of age vs balance, to see if ther eare any patterns. None seen"
   ]
  },
  {
   "cell_type": "code",
   "execution_count": 48,
   "metadata": {},
   "outputs": [
    {
     "data": {
      "text/plain": [
       "<matplotlib.collections.PathCollection at 0x1da5dbeb220>"
      ]
     },
     "execution_count": 48,
     "metadata": {},
     "output_type": "execute_result"
    },
    {
     "data": {
      "image/png": "[encoded data removed]",
      "text/plain": [
       "<Figure size 576x396 with 1 Axes>"
      ]
     },
     "metadata": {},
     "output_type": "display_data"
    }
   ],
   "source": [
    "# draw a scatter plot to check the balance distribution across ages\n",
    "plt.scatter(credit['LIMIT_BAL'], credit['AGE'], s = 10, c = 'red', marker = 'o')"
   ]
  },
  {
   "cell_type": "markdown",
   "metadata": {},
   "source": [
    "###### Box Plot of age vs default behaviout to see if there are any patterns. No useful patterns"
   ]
  },
  {
   "cell_type": "code",
   "execution_count": 49,
   "metadata": {},
   "outputs": [
    {
     "data": {
      "text/plain": [
       "[Text(0.5, 1.0, 'Box Plot to show Relationship between Age and Payment Default')]"
      ]
     },
     "execution_count": 49,
     "metadata": {},
     "output_type": "execute_result"
    },
    {
     "data": {
      "image/png": "[encoded data removed]",
      "text/plain": [
       "<Figure size 576x396 with 1 Axes>"
      ]
     },
     "metadata": {},
     "output_type": "display_data"
    }
   ],
   "source": [
    "# plot boxplot for age vs default pmt\n",
    "fg = sns.boxplot(credit['default payment next month'], credit['AGE'])\n",
    "fg.set(xlabel = 'Default on Paymen Next Month', ylabel = 'Age')\n",
    "fg.set (title = 'Box Plot to show Relationship between Age and Payment Default')"
   ]
  },
  {
   "cell_type": "markdown",
   "metadata": {},
   "source": [
    "###### What is distribution of age across customers"
   ]
  },
  {
   "cell_type": "code",
   "execution_count": 50,
   "metadata": {},
   "outputs": [
    {
     "data": {
      "text/plain": [
       "<matplotlib.axes._subplots.AxesSubplot at 0x1da5dd74310>"
      ]
     },
     "execution_count": 50,
     "metadata": {},
     "output_type": "execute_result"
    },
    {
     "data": {
      "image/png": "[encoded data removed]",
      "text/plain": [
       "<Figure size 576x396 with 1 Axes>"
      ]
     },
     "metadata": {},
     "output_type": "display_data"
    }
   ],
   "source": [
    "sns.distplot(credit['AGE'])"
   ]
  },
  {
   "cell_type": "markdown",
   "metadata": {},
   "source": [
    "###### what is the distribution of age across the two genders - the plot below shows a fairly equal distribution of age across sexes."
   ]
  },
  {
   "cell_type": "code",
   "execution_count": 51,
   "metadata": {},
   "outputs": [
    {
     "data": {
      "text/plain": [
       "<seaborn.axisgrid.FacetGrid at 0x1da5de71dc0>"
      ]
     },
     "execution_count": 51,
     "metadata": {},
     "output_type": "execute_result"
    },
    {
     "data": {
      "image/png": "[encoded data removed]",
      "text/plain": [
       "<Figure size 930.125x216 with 1 Axes>"
      ]
     },
     "metadata": {},
     "output_type": "display_data"
    }
   ],
   "source": [
    "fig = sns.FacetGrid(credit, hue='SEX', aspect=4)\n",
    "fig.map(sns.kdeplot, 'AGE', shade=True)\n",
    "fig.add_legend()"
   ]
  },
  {
   "cell_type": "markdown",
   "metadata": {},
   "source": [
    "###### Stacked bar chart for default behaviour across Age Group Bins. "
   ]
  },
  {
   "cell_type": "code",
   "execution_count": 52,
   "metadata": {},
   "outputs": [
    {
     "data": {
      "image/png": "[encoded data removed]",
      "text/plain": [
       "<Figure size 360x432 with 1 Axes>"
      ]
     },
     "metadata": {},
     "output_type": "display_data"
    }
   ],
   "source": [
    "# Plot a stacked bar chart to see default behaviour across marital status\n",
    "marr_stack_plot = credit.groupby(['age_bins','default payment next month'])['ID'].count().unstack('default payment next month')\n",
    "ax = marr_stack_plot.plot(kind = 'bar', \n",
    "                          stacked = True, \n",
    "                          title = 'Default Behaviour across Age Levels', \n",
    "                          figsize = (5, 6))\n",
    "ax.set_xlabel('Age Levels')\n",
    "ax.set_ylabel('Number of Customers')\n",
    "\n",
    "#create a varray to house the total height of each of the 4 bars\n",
    "# this will be used to calculate the height % to display in each of the patches\n",
    "tot = [0, 0, 0, 0]\n",
    "\n",
    "# calculate the total height of each of the 4 bars\n",
    "for i, p in enumerate(ax.patches):\n",
    "    if i % 4 == 0 :\n",
    "        tot[0] = tot[0] +  p.get_height()\n",
    "    elif i % 4 == 1 :\n",
    "        tot[1] = tot[1] +  p.get_height()\n",
    "    elif i % 4 == 2 :\n",
    "        tot[2] = tot[2] +  p.get_height()\n",
    "    elif i % 4 == 3 :\n",
    "        tot[3] = tot[3] +  p.get_height()\n",
    "\n",
    "# now annotate each patch with the percentage of transactions\n",
    "for i, p in enumerate(ax.patches):\n",
    "    width, height = p.get_width(), p.get_height()\n",
    "    px, py = p.get_x(), p.get_y()\n",
    "    \n",
    "    #calculate height percentage of each patch\n",
    "    if i % 4 == 0 :\n",
    "        ht_pct = round((p.get_height()/tot[0]), 4)\n",
    "    elif i % 4 == 1 :\n",
    "        ht_pct = round((p.get_height()/tot[1]), 4)\n",
    "    elif i % 4 == 2 :\n",
    "        ht_pct = round((p.get_height()/tot[2]), 4)\n",
    "    elif i % 4 == 3 :\n",
    "        ht_pct = round((p.get_height()/tot[3]), 4)\n",
    "\n",
    "    ax.text(px+width/2, \n",
    "            py+height/2,\n",
    "            \"{:.2%}\".format(ht_pct),\n",
    "            horizontalalignment='center', \n",
    "            verticalalignment='center')"
   ]
  },
  {
   "cell_type": "markdown",
   "metadata": {},
   "source": [
    "###### Create a crosstab table to see percentages of default across age groups. The normalize parameter helps us see percentages in the decimal form. From the crosstab below, customers 50 and above are more likely to default than other age groups."
   ]
  },
  {
   "cell_type": "code",
   "execution_count": 53,
   "metadata": {},
   "outputs": [
    {
     "data": {
      "text/html": [
       "<div>\n",
       "<style scoped>\n",
       "    .dataframe tbody tr th:only-of-type {\n",
       "        vertical-align: middle;\n",
       "    }\n",
       "\n",
       "    .dataframe tbody tr th {\n",
       "        vertical-align: top;\n",
       "    }\n",
       "\n",
       "    .dataframe thead th {\n",
       "        text-align: right;\n",
       "    }\n",
       "</style>\n",
       "<table border=\"1\" class=\"dataframe\">\n",
       "  <thead>\n",
       "    <tr style=\"text-align: right;\">\n",
       "      <th>age_bins</th>\n",
       "      <th>20-29</th>\n",
       "      <th>30-39</th>\n",
       "      <th>40-49</th>\n",
       "      <th>50 and above</th>\n",
       "    </tr>\n",
       "    <tr>\n",
       "      <th>default payment next month</th>\n",
       "      <th></th>\n",
       "      <th></th>\n",
       "      <th></th>\n",
       "      <th></th>\n",
       "    </tr>\n",
       "  </thead>\n",
       "  <tbody>\n",
       "    <tr>\n",
       "      <th>default</th>\n",
       "      <td>0.228426</td>\n",
       "      <td>0.202527</td>\n",
       "      <td>0.229734</td>\n",
       "      <td>0.252985</td>\n",
       "    </tr>\n",
       "    <tr>\n",
       "      <th>not default</th>\n",
       "      <td>0.771574</td>\n",
       "      <td>0.797473</td>\n",
       "      <td>0.770266</td>\n",
       "      <td>0.747015</td>\n",
       "    </tr>\n",
       "  </tbody>\n",
       "</table>\n",
       "</div>"
      ],
      "text/plain": [
       "age_bins                       20-29     30-39     40-49  50 and above\n",
       "default payment next month                                            \n",
       "default                     0.228426  0.202527  0.229734      0.252985\n",
       "not default                 0.771574  0.797473  0.770266      0.747015"
      ]
     },
     "execution_count": 53,
     "metadata": {},
     "output_type": "execute_result"
    }
   ],
   "source": [
    "pd.crosstab(index = credit['default payment next month'], \n",
    "            columns = credit['age_bins'],\n",
    "            normalize = 'columns')"
   ]
  },
  {
   "cell_type": "markdown",
   "metadata": {},
   "source": [
    "#### Feature: PAY_0 to PAY_6"
   ]
  },
  {
   "cell_type": "code",
   "execution_count": 54,
   "metadata": {},
   "outputs": [
    {
     "data": {
      "text/plain": [
       " 0    14737\n",
       "-1     5686\n",
       " 1     3688\n",
       "-2     2759\n",
       " 2     2667\n",
       " 3      322\n",
       " 4       76\n",
       " 5       26\n",
       " 8       19\n",
       " 6       11\n",
       " 7        9\n",
       "Name: PAY_0, dtype: int64"
      ]
     },
     "execution_count": 54,
     "metadata": {},
     "output_type": "execute_result"
    }
   ],
   "source": [
    "# what are the distinct values of PAY_0\n",
    "credit['PAY_0'].value_counts()"
   ]
  },
  {
   "cell_type": "code",
   "execution_count": 55,
   "metadata": {},
   "outputs": [
    {
     "data": {
      "text/plain": [
       " 0    15730\n",
       "-1     6050\n",
       " 2     3927\n",
       "-2     3782\n",
       " 3      326\n",
       " 4       99\n",
       " 1       28\n",
       " 5       25\n",
       " 7       20\n",
       " 6       12\n",
       " 8        1\n",
       "Name: PAY_2, dtype: int64"
      ]
     },
     "execution_count": 55,
     "metadata": {},
     "output_type": "execute_result"
    }
   ],
   "source": [
    "# what are the distinct values of PAY_2\n",
    "credit['PAY_2'].value_counts()"
   ]
  },
  {
   "cell_type": "code",
   "execution_count": 56,
   "metadata": {},
   "outputs": [
    {
     "data": {
      "text/plain": [
       " 0    15764\n",
       "-1     5938\n",
       "-2     4085\n",
       " 2     3819\n",
       " 3      240\n",
       " 4       76\n",
       " 7       27\n",
       " 6       23\n",
       " 5       21\n",
       " 1        4\n",
       " 8        3\n",
       "Name: PAY_3, dtype: int64"
      ]
     },
     "execution_count": 56,
     "metadata": {},
     "output_type": "execute_result"
    }
   ],
   "source": [
    "# what are the distinct values of PAY_3\n",
    "credit['PAY_3'].value_counts()"
   ]
  },
  {
   "cell_type": "code",
   "execution_count": 57,
   "metadata": {},
   "outputs": [
    {
     "data": {
      "text/plain": [
       " 0    16455\n",
       "-1     5687\n",
       "-2     4348\n",
       " 2     3159\n",
       " 3      180\n",
       " 4       69\n",
       " 7       58\n",
       " 5       35\n",
       " 6        5\n",
       " 8        2\n",
       " 1        2\n",
       "Name: PAY_4, dtype: int64"
      ]
     },
     "execution_count": 57,
     "metadata": {},
     "output_type": "execute_result"
    }
   ],
   "source": [
    "# what are the distinct values of PAY_4\n",
    "credit['PAY_4'].value_counts()"
   ]
  },
  {
   "cell_type": "code",
   "execution_count": 58,
   "metadata": {},
   "outputs": [
    {
     "data": {
      "text/plain": [
       " 0    16947\n",
       "-1     5539\n",
       "-2     4546\n",
       " 2     2626\n",
       " 3      178\n",
       " 4       84\n",
       " 7       58\n",
       " 5       17\n",
       " 6        4\n",
       " 8        1\n",
       "Name: PAY_5, dtype: int64"
      ]
     },
     "execution_count": 58,
     "metadata": {},
     "output_type": "execute_result"
    }
   ],
   "source": [
    "# what are the distinct values of PAY_5\n",
    "credit['PAY_5'].value_counts()"
   ]
  },
  {
   "cell_type": "code",
   "execution_count": 59,
   "metadata": {},
   "outputs": [
    {
     "data": {
      "text/plain": [
       " 0    16286\n",
       "-1     5740\n",
       "-2     4895\n",
       " 2     2766\n",
       " 3      184\n",
       " 4       49\n",
       " 7       46\n",
       " 6       19\n",
       " 5       13\n",
       " 8        2\n",
       "Name: PAY_6, dtype: int64"
      ]
     },
     "execution_count": 59,
     "metadata": {},
     "output_type": "execute_result"
    }
   ],
   "source": [
    "# what are the distinct values of PAY_6\n",
    "credit['PAY_6'].value_counts()"
   ]
  },
  {
   "cell_type": "markdown",
   "metadata": {},
   "source": [
    "###### Is there any correlation between PAY_0 through PAY_6 values. One would expect to see a correlation. All of them have a fairly good correlation between each other"
   ]
  },
  {
   "cell_type": "code",
   "execution_count": 60,
   "metadata": {},
   "outputs": [
    {
     "data": {
      "text/html": [
       "<div>\n",
       "<style scoped>\n",
       "    .dataframe tbody tr th:only-of-type {\n",
       "        vertical-align: middle;\n",
       "    }\n",
       "\n",
       "    .dataframe tbody tr th {\n",
       "        vertical-align: top;\n",
       "    }\n",
       "\n",
       "    .dataframe thead th {\n",
       "        text-align: right;\n",
       "    }\n",
       "</style>\n",
       "<table border=\"1\" class=\"dataframe\">\n",
       "  <thead>\n",
       "    <tr style=\"text-align: right;\">\n",
       "      <th></th>\n",
       "      <th>PAY_0</th>\n",
       "      <th>PAY_2</th>\n",
       "      <th>PAY_3</th>\n",
       "      <th>PAY_4</th>\n",
       "      <th>PAY_5</th>\n",
       "      <th>PAY_6</th>\n",
       "    </tr>\n",
       "  </thead>\n",
       "  <tbody>\n",
       "    <tr>\n",
       "      <th>PAY_0</th>\n",
       "      <td>1.000000</td>\n",
       "      <td>0.672164</td>\n",
       "      <td>0.574245</td>\n",
       "      <td>0.538841</td>\n",
       "      <td>0.509426</td>\n",
       "      <td>0.474553</td>\n",
       "    </tr>\n",
       "    <tr>\n",
       "      <th>PAY_2</th>\n",
       "      <td>0.672164</td>\n",
       "      <td>1.000000</td>\n",
       "      <td>0.766552</td>\n",
       "      <td>0.662067</td>\n",
       "      <td>0.622780</td>\n",
       "      <td>0.575501</td>\n",
       "    </tr>\n",
       "    <tr>\n",
       "      <th>PAY_3</th>\n",
       "      <td>0.574245</td>\n",
       "      <td>0.766552</td>\n",
       "      <td>1.000000</td>\n",
       "      <td>0.777359</td>\n",
       "      <td>0.686775</td>\n",
       "      <td>0.632684</td>\n",
       "    </tr>\n",
       "    <tr>\n",
       "      <th>PAY_4</th>\n",
       "      <td>0.538841</td>\n",
       "      <td>0.662067</td>\n",
       "      <td>0.777359</td>\n",
       "      <td>1.000000</td>\n",
       "      <td>0.819835</td>\n",
       "      <td>0.716449</td>\n",
       "    </tr>\n",
       "    <tr>\n",
       "      <th>PAY_5</th>\n",
       "      <td>0.509426</td>\n",
       "      <td>0.622780</td>\n",
       "      <td>0.686775</td>\n",
       "      <td>0.819835</td>\n",
       "      <td>1.000000</td>\n",
       "      <td>0.816900</td>\n",
       "    </tr>\n",
       "    <tr>\n",
       "      <th>PAY_6</th>\n",
       "      <td>0.474553</td>\n",
       "      <td>0.575501</td>\n",
       "      <td>0.632684</td>\n",
       "      <td>0.716449</td>\n",
       "      <td>0.816900</td>\n",
       "      <td>1.000000</td>\n",
       "    </tr>\n",
       "  </tbody>\n",
       "</table>\n",
       "</div>"
      ],
      "text/plain": [
       "          PAY_0     PAY_2     PAY_3     PAY_4     PAY_5     PAY_6\n",
       "PAY_0  1.000000  0.672164  0.574245  0.538841  0.509426  0.474553\n",
       "PAY_2  0.672164  1.000000  0.766552  0.662067  0.622780  0.575501\n",
       "PAY_3  0.574245  0.766552  1.000000  0.777359  0.686775  0.632684\n",
       "PAY_4  0.538841  0.662067  0.777359  1.000000  0.819835  0.716449\n",
       "PAY_5  0.509426  0.622780  0.686775  0.819835  1.000000  0.816900\n",
       "PAY_6  0.474553  0.575501  0.632684  0.716449  0.816900  1.000000"
      ]
     },
     "execution_count": 60,
     "metadata": {},
     "output_type": "execute_result"
    }
   ],
   "source": [
    "credit.corr().iloc[4:10, 4:10]"
   ]
  },
  {
   "cell_type": "markdown",
   "metadata": {},
   "source": [
    "###### Plot a Heatmap"
   ]
  },
  {
   "cell_type": "code",
   "execution_count": 61,
   "metadata": {},
   "outputs": [
    {
     "data": {
      "text/plain": [
       "Text(0.5, 1.0, 'Correlation Heatmap')"
      ]
     },
     "execution_count": 61,
     "metadata": {},
     "output_type": "execute_result"
    },
    {
     "data": {
      "image/png": "[encoded data removed]",
      "text/plain": [
       "<Figure size 576x396 with 2 Axes>"
      ]
     },
     "metadata": {},
     "output_type": "display_data"
    }
   ],
   "source": [
    "sns.heatmap(credit.corr().iloc[4:10, 4:10], linewidths = .5, annot = True)\n",
    "plt.title('Correlation Heatmap')"
   ]
  },
  {
   "cell_type": "markdown",
   "metadata": {},
   "source": [
    "###### Draw a catplot to check distribution of PAY_0 across payment default. It shows that customers who default the most are those with revolving credit, or those with 1-3 months behind on their payments"
   ]
  },
  {
   "cell_type": "code",
   "execution_count": 62,
   "metadata": {},
   "outputs": [
    {
     "data": {
      "image/png": "[encoded data removed]",
      "text/plain": [
       "<Figure size 405x360 with 1 Axes>"
      ]
     },
     "metadata": {},
     "output_type": "display_data"
    }
   ],
   "source": [
    "fg = sns.catplot('default payment next month', data = credit, hue = 'PAY_0', kind = 'count')"
   ]
  },
  {
   "cell_type": "markdown",
   "metadata": {},
   "source": [
    "###### Draw a catplot to check distribution of PAY_2 across payment default. It shows that customers who default the most next month are those with revolving credit, or those with 1-3 months behind on their payments"
   ]
  },
  {
   "cell_type": "code",
   "execution_count": 63,
   "metadata": {},
   "outputs": [
    {
     "data": {
      "image/png": "[encoded data removed]",
      "text/plain": [
       "<Figure size 405x360 with 1 Axes>"
      ]
     },
     "metadata": {},
     "output_type": "display_data"
    }
   ],
   "source": [
    "fg = sns.catplot('default payment next month', data = credit, hue = 'PAY_2', kind = 'count')"
   ]
  },
  {
   "cell_type": "markdown",
   "metadata": {},
   "source": [
    "###### Create a crosstab to see percentages of default next month if customer has defaulted in first month. We can see that if a customer has defaulted in the first month, there is a 50% chance they will default next month(dependent variable)"
   ]
  },
  {
   "cell_type": "code",
   "execution_count": 64,
   "metadata": {},
   "outputs": [
    {
     "data": {
      "text/html": [
       "<div>\n",
       "<style scoped>\n",
       "    .dataframe tbody tr th:only-of-type {\n",
       "        vertical-align: middle;\n",
       "    }\n",
       "\n",
       "    .dataframe tbody tr th {\n",
       "        vertical-align: top;\n",
       "    }\n",
       "\n",
       "    .dataframe thead th {\n",
       "        text-align: right;\n",
       "    }\n",
       "</style>\n",
       "<table border=\"1\" class=\"dataframe\">\n",
       "  <thead>\n",
       "    <tr style=\"text-align: right;\">\n",
       "      <th></th>\n",
       "      <th>PAY_0_not_default</th>\n",
       "      <th>PAY_0_default</th>\n",
       "    </tr>\n",
       "    <tr>\n",
       "      <th>default payment next month</th>\n",
       "      <th></th>\n",
       "      <th></th>\n",
       "    </tr>\n",
       "  </thead>\n",
       "  <tbody>\n",
       "    <tr>\n",
       "      <th>default</th>\n",
       "      <td>13.83%</td>\n",
       "      <td>50.29%</td>\n",
       "    </tr>\n",
       "    <tr>\n",
       "      <th>not default</th>\n",
       "      <td>86.17%</td>\n",
       "      <td>49.71%</td>\n",
       "    </tr>\n",
       "  </tbody>\n",
       "</table>\n",
       "</div>"
      ],
      "text/plain": [
       "                           PAY_0_not_default PAY_0_default\n",
       "default payment next month                                \n",
       "default                               13.83%        50.29%\n",
       "not default                           86.17%        49.71%"
      ]
     },
     "execution_count": 64,
     "metadata": {},
     "output_type": "execute_result"
    }
   ],
   "source": [
    "t1 = pd.crosstab(index = credit['default payment next month'], \n",
    "            columns = credit['PAY_0_default'],\n",
    "            normalize = 'columns').applymap(lambda x: \"{0:.2f}%\".format(100*x))\n",
    "t1.columns=['PAY_0_not_default', 'PAY_0_default']\n",
    "t1"
   ]
  },
  {
   "cell_type": "markdown",
   "metadata": {},
   "source": [
    "###### Create a crosstab to see percentages of default next month if customer has defaulted in second month. We can see that if a customer has defaulted in the second month, there is a 55% chance they will default next month"
   ]
  },
  {
   "cell_type": "code",
   "execution_count": 65,
   "metadata": {},
   "outputs": [
    {
     "data": {
      "text/html": [
       "<div>\n",
       "<style scoped>\n",
       "    .dataframe tbody tr th:only-of-type {\n",
       "        vertical-align: middle;\n",
       "    }\n",
       "\n",
       "    .dataframe tbody tr th {\n",
       "        vertical-align: top;\n",
       "    }\n",
       "\n",
       "    .dataframe thead th {\n",
       "        text-align: right;\n",
       "    }\n",
       "</style>\n",
       "<table border=\"1\" class=\"dataframe\">\n",
       "  <thead>\n",
       "    <tr style=\"text-align: right;\">\n",
       "      <th></th>\n",
       "      <th>PAY_2_not_default</th>\n",
       "      <th>PAY_2_default</th>\n",
       "    </tr>\n",
       "    <tr>\n",
       "      <th>default payment next month</th>\n",
       "      <th></th>\n",
       "      <th></th>\n",
       "    </tr>\n",
       "  </thead>\n",
       "  <tbody>\n",
       "    <tr>\n",
       "      <th>default</th>\n",
       "      <td>16.27%</td>\n",
       "      <td>55.79%</td>\n",
       "    </tr>\n",
       "    <tr>\n",
       "      <th>not default</th>\n",
       "      <td>83.73%</td>\n",
       "      <td>44.21%</td>\n",
       "    </tr>\n",
       "  </tbody>\n",
       "</table>\n",
       "</div>"
      ],
      "text/plain": [
       "                           PAY_2_not_default PAY_2_default\n",
       "default payment next month                                \n",
       "default                               16.27%        55.79%\n",
       "not default                           83.73%        44.21%"
      ]
     },
     "execution_count": 65,
     "metadata": {},
     "output_type": "execute_result"
    }
   ],
   "source": [
    "t2 = pd.crosstab(index = credit['default payment next month'], \n",
    "            columns = credit['PAY_2_default'],\n",
    "            normalize = 'columns').applymap(lambda x: \"{0:.2f}%\".format(100*x))\n",
    "t2.columns=['PAY_2_not_default', 'PAY_2_default']\n",
    "t2"
   ]
  },
  {
   "cell_type": "markdown",
   "metadata": {},
   "source": [
    "###### Create a crosstab to see percentages of default next month if customer has defaulted in third month. We can see that if a customer has defaulted in the third month, there is a 52% chance they will default next month"
   ]
  },
  {
   "cell_type": "code",
   "execution_count": 66,
   "metadata": {},
   "outputs": [
    {
     "data": {
      "text/html": [
       "<div>\n",
       "<style scoped>\n",
       "    .dataframe tbody tr th:only-of-type {\n",
       "        vertical-align: middle;\n",
       "    }\n",
       "\n",
       "    .dataframe tbody tr th {\n",
       "        vertical-align: top;\n",
       "    }\n",
       "\n",
       "    .dataframe thead th {\n",
       "        text-align: right;\n",
       "    }\n",
       "</style>\n",
       "<table border=\"1\" class=\"dataframe\">\n",
       "  <thead>\n",
       "    <tr style=\"text-align: right;\">\n",
       "      <th></th>\n",
       "      <th>PAY_3_not_default</th>\n",
       "      <th>PAY_3_default</th>\n",
       "    </tr>\n",
       "    <tr>\n",
       "      <th>default payment next month</th>\n",
       "      <th></th>\n",
       "      <th></th>\n",
       "    </tr>\n",
       "  </thead>\n",
       "  <tbody>\n",
       "    <tr>\n",
       "      <th>default</th>\n",
       "      <td>17.19%</td>\n",
       "      <td>52.27%</td>\n",
       "    </tr>\n",
       "    <tr>\n",
       "      <th>not default</th>\n",
       "      <td>82.81%</td>\n",
       "      <td>47.73%</td>\n",
       "    </tr>\n",
       "  </tbody>\n",
       "</table>\n",
       "</div>"
      ],
      "text/plain": [
       "                           PAY_3_not_default PAY_3_default\n",
       "default payment next month                                \n",
       "default                               17.19%        52.27%\n",
       "not default                           82.81%        47.73%"
      ]
     },
     "execution_count": 66,
     "metadata": {},
     "output_type": "execute_result"
    }
   ],
   "source": [
    "t3 = pd.crosstab(index = credit['default payment next month'], \n",
    "            columns = credit['PAY_3_default'],\n",
    "            normalize = 'columns').applymap(lambda x: \"{0:.2f}%\".format(100*x))\n",
    "t3.columns=['PAY_3_not_default', 'PAY_3_default']\n",
    "t3"
   ]
  },
  {
   "cell_type": "markdown",
   "metadata": {},
   "source": [
    "###### Create a crosstab to see percentages of default next month if customer has defaulted in fourth month. We can see that if a customer has defaulted in the fourth month, there is a 54% chance they will default next month"
   ]
  },
  {
   "cell_type": "code",
   "execution_count": 67,
   "metadata": {},
   "outputs": [
    {
     "data": {
      "text/html": [
       "<div>\n",
       "<style scoped>\n",
       "    .dataframe tbody tr th:only-of-type {\n",
       "        vertical-align: middle;\n",
       "    }\n",
       "\n",
       "    .dataframe tbody tr th {\n",
       "        vertical-align: top;\n",
       "    }\n",
       "\n",
       "    .dataframe thead th {\n",
       "        text-align: right;\n",
       "    }\n",
       "</style>\n",
       "<table border=\"1\" class=\"dataframe\">\n",
       "  <thead>\n",
       "    <tr style=\"text-align: right;\">\n",
       "      <th></th>\n",
       "      <th>PAY_4_not_default</th>\n",
       "      <th>PAY_4_default</th>\n",
       "    </tr>\n",
       "    <tr>\n",
       "      <th>default payment next month</th>\n",
       "      <th></th>\n",
       "      <th></th>\n",
       "    </tr>\n",
       "  </thead>\n",
       "  <tbody>\n",
       "    <tr>\n",
       "      <th>default</th>\n",
       "      <td>17.96%</td>\n",
       "      <td>53.53%</td>\n",
       "    </tr>\n",
       "    <tr>\n",
       "      <th>not default</th>\n",
       "      <td>82.04%</td>\n",
       "      <td>46.47%</td>\n",
       "    </tr>\n",
       "  </tbody>\n",
       "</table>\n",
       "</div>"
      ],
      "text/plain": [
       "                           PAY_4_not_default PAY_4_default\n",
       "default payment next month                                \n",
       "default                               17.96%        53.53%\n",
       "not default                           82.04%        46.47%"
      ]
     },
     "execution_count": 67,
     "metadata": {},
     "output_type": "execute_result"
    }
   ],
   "source": [
    "t4 = pd.crosstab(index = credit['default payment next month'], \n",
    "            columns = credit['PAY_4_default'],\n",
    "            normalize = 'columns').applymap(lambda x: \"{0:.2f}%\".format(100*x))\n",
    "t4.columns=['PAY_4_not_default', 'PAY_4_default']\n",
    "t4"
   ]
  },
  {
   "cell_type": "markdown",
   "metadata": {},
   "source": [
    "###### Create a crosstab to see percentages of default next month if customer has defaulted in fifth month. We can see that if a customer has defaulted in the fifth month, there is a 56% chance they will default next month"
   ]
  },
  {
   "cell_type": "code",
   "execution_count": 68,
   "metadata": {},
   "outputs": [
    {
     "data": {
      "text/html": [
       "<div>\n",
       "<style scoped>\n",
       "    .dataframe tbody tr th:only-of-type {\n",
       "        vertical-align: middle;\n",
       "    }\n",
       "\n",
       "    .dataframe tbody tr th {\n",
       "        vertical-align: top;\n",
       "    }\n",
       "\n",
       "    .dataframe thead th {\n",
       "        text-align: right;\n",
       "    }\n",
       "</style>\n",
       "<table border=\"1\" class=\"dataframe\">\n",
       "  <thead>\n",
       "    <tr style=\"text-align: right;\">\n",
       "      <th></th>\n",
       "      <th>PAY_5_not_default</th>\n",
       "      <th>PAY_5_default</th>\n",
       "    </tr>\n",
       "    <tr>\n",
       "      <th>default payment next month</th>\n",
       "      <th></th>\n",
       "      <th></th>\n",
       "    </tr>\n",
       "  </thead>\n",
       "  <tbody>\n",
       "    <tr>\n",
       "      <th>default</th>\n",
       "      <td>18.45%</td>\n",
       "      <td>55.56%</td>\n",
       "    </tr>\n",
       "    <tr>\n",
       "      <th>not default</th>\n",
       "      <td>81.55%</td>\n",
       "      <td>44.44%</td>\n",
       "    </tr>\n",
       "  </tbody>\n",
       "</table>\n",
       "</div>"
      ],
      "text/plain": [
       "                           PAY_5_not_default PAY_5_default\n",
       "default payment next month                                \n",
       "default                               18.45%        55.56%\n",
       "not default                           81.55%        44.44%"
      ]
     },
     "execution_count": 68,
     "metadata": {},
     "output_type": "execute_result"
    }
   ],
   "source": [
    "t5 = pd.crosstab(index = credit['default payment next month'], \n",
    "            columns = credit['PAY_5_default'],\n",
    "            normalize = 'columns').applymap(lambda x: \"{0:.2f}%\".format(100*x))\n",
    "t5.columns=['PAY_5_not_default', 'PAY_5_default']\n",
    "t5"
   ]
  },
  {
   "cell_type": "markdown",
   "metadata": {},
   "source": [
    "###### Create a crosstab to see percentages of default next month if customer has defaulted in sixth month. We can see that if a customer has defaulted in the sixth month, there is a 52% chance they will default next month"
   ]
  },
  {
   "cell_type": "code",
   "execution_count": 69,
   "metadata": {},
   "outputs": [
    {
     "data": {
      "text/html": [
       "<div>\n",
       "<style scoped>\n",
       "    .dataframe tbody tr th:only-of-type {\n",
       "        vertical-align: middle;\n",
       "    }\n",
       "\n",
       "    .dataframe tbody tr th {\n",
       "        vertical-align: top;\n",
       "    }\n",
       "\n",
       "    .dataframe thead th {\n",
       "        text-align: right;\n",
       "    }\n",
       "</style>\n",
       "<table border=\"1\" class=\"dataframe\">\n",
       "  <thead>\n",
       "    <tr style=\"text-align: right;\">\n",
       "      <th></th>\n",
       "      <th>PAY_6_not_default</th>\n",
       "      <th>PAY_6_default</th>\n",
       "    </tr>\n",
       "    <tr>\n",
       "      <th>default payment next month</th>\n",
       "      <th></th>\n",
       "      <th></th>\n",
       "    </tr>\n",
       "  </thead>\n",
       "  <tbody>\n",
       "    <tr>\n",
       "      <th>default</th>\n",
       "      <td>18.67%</td>\n",
       "      <td>52.32%</td>\n",
       "    </tr>\n",
       "    <tr>\n",
       "      <th>not default</th>\n",
       "      <td>81.33%</td>\n",
       "      <td>47.68%</td>\n",
       "    </tr>\n",
       "  </tbody>\n",
       "</table>\n",
       "</div>"
      ],
      "text/plain": [
       "                           PAY_6_not_default PAY_6_default\n",
       "default payment next month                                \n",
       "default                               18.67%        52.32%\n",
       "not default                           81.33%        47.68%"
      ]
     },
     "execution_count": 69,
     "metadata": {},
     "output_type": "execute_result"
    }
   ],
   "source": [
    "t6 = pd.crosstab(index = credit['default payment next month'], \n",
    "            columns = credit['PAY_6_default'],\n",
    "            normalize = 'columns').applymap(lambda x: \"{0:.2f}%\".format(100*x))\n",
    "t6.columns=['PAY_6_not_default', 'PAY_6_default']\n",
    "t6"
   ]
  },
  {
   "cell_type": "code",
   "execution_count": 70,
   "metadata": {},
   "outputs": [
    {
     "data": {
      "text/html": [
       "<div>\n",
       "<style scoped>\n",
       "    .dataframe tbody tr th:only-of-type {\n",
       "        vertical-align: middle;\n",
       "    }\n",
       "\n",
       "    .dataframe tbody tr th {\n",
       "        vertical-align: top;\n",
       "    }\n",
       "\n",
       "    .dataframe thead th {\n",
       "        text-align: right;\n",
       "    }\n",
       "</style>\n",
       "<table border=\"1\" class=\"dataframe\">\n",
       "  <thead>\n",
       "    <tr style=\"text-align: right;\">\n",
       "      <th></th>\n",
       "      <th>PAY_0_not_default</th>\n",
       "      <th>PAY_0_default</th>\n",
       "      <th>PAY_2_not_default</th>\n",
       "      <th>PAY_2_default</th>\n",
       "      <th>PAY_3_not_default</th>\n",
       "      <th>PAY_3_default</th>\n",
       "      <th>PAY_4_not_default</th>\n",
       "      <th>PAY_4_default</th>\n",
       "      <th>PAY_5_not_default</th>\n",
       "      <th>PAY_5_default</th>\n",
       "      <th>PAY_6_not_default</th>\n",
       "      <th>PAY_6_default</th>\n",
       "    </tr>\n",
       "    <tr>\n",
       "      <th>default payment next month</th>\n",
       "      <th></th>\n",
       "      <th></th>\n",
       "      <th></th>\n",
       "      <th></th>\n",
       "      <th></th>\n",
       "      <th></th>\n",
       "      <th></th>\n",
       "      <th></th>\n",
       "      <th></th>\n",
       "      <th></th>\n",
       "      <th></th>\n",
       "      <th></th>\n",
       "    </tr>\n",
       "  </thead>\n",
       "  <tbody>\n",
       "    <tr>\n",
       "      <th>default</th>\n",
       "      <td>13.83%</td>\n",
       "      <td>50.29%</td>\n",
       "      <td>16.27%</td>\n",
       "      <td>55.79%</td>\n",
       "      <td>17.19%</td>\n",
       "      <td>52.27%</td>\n",
       "      <td>17.96%</td>\n",
       "      <td>53.53%</td>\n",
       "      <td>18.45%</td>\n",
       "      <td>55.56%</td>\n",
       "      <td>18.67%</td>\n",
       "      <td>52.32%</td>\n",
       "    </tr>\n",
       "    <tr>\n",
       "      <th>not default</th>\n",
       "      <td>86.17%</td>\n",
       "      <td>49.71%</td>\n",
       "      <td>83.73%</td>\n",
       "      <td>44.21%</td>\n",
       "      <td>82.81%</td>\n",
       "      <td>47.73%</td>\n",
       "      <td>82.04%</td>\n",
       "      <td>46.47%</td>\n",
       "      <td>81.55%</td>\n",
       "      <td>44.44%</td>\n",
       "      <td>81.33%</td>\n",
       "      <td>47.68%</td>\n",
       "    </tr>\n",
       "  </tbody>\n",
       "</table>\n",
       "</div>"
      ],
      "text/plain": [
       "                           PAY_0_not_default PAY_0_default PAY_2_not_default  \\\n",
       "default payment next month                                                     \n",
       "default                               13.83%        50.29%            16.27%   \n",
       "not default                           86.17%        49.71%            83.73%   \n",
       "\n",
       "                           PAY_2_default PAY_3_not_default PAY_3_default  \\\n",
       "default payment next month                                                 \n",
       "default                           55.79%            17.19%        52.27%   \n",
       "not default                       44.21%            82.81%        47.73%   \n",
       "\n",
       "                           PAY_4_not_default PAY_4_default PAY_5_not_default  \\\n",
       "default payment next month                                                     \n",
       "default                               17.96%        53.53%            18.45%   \n",
       "not default                           82.04%        46.47%            81.55%   \n",
       "\n",
       "                           PAY_5_default PAY_6_not_default PAY_6_default  \n",
       "default payment next month                                                \n",
       "default                           55.56%            18.67%        52.32%  \n",
       "not default                       44.44%            81.33%        47.68%  "
      ]
     },
     "execution_count": 70,
     "metadata": {},
     "output_type": "execute_result"
    }
   ],
   "source": [
    "# concatenate all these tables to see PAY_0 through PAY_6 together across default/not default\n",
    "t = pd.concat([t1, t2, t3, t4, t5, t6], axis=1)\n",
    "t"
   ]
  },
  {
   "cell_type": "markdown",
   "metadata": {},
   "source": [
    "#### Feature: BILL_AMT1 to BILL_AMT6"
   ]
  },
  {
   "cell_type": "markdown",
   "metadata": {},
   "source": [
    "###### Plot a histogram for bill_amt1"
   ]
  },
  {
   "cell_type": "code",
   "execution_count": 71,
   "metadata": {},
   "outputs": [
    {
     "data": {
      "text/plain": [
       "(array([2.0000e+00, 2.1885e+04, 6.0070e+03, 1.5340e+03, 3.9700e+02,\n",
       "        1.4300e+02, 2.7000e+01, 3.0000e+00, 1.0000e+00, 1.0000e+00]),\n",
       " array([-165580. ,  -52570.9,   60438.2,  173447.3,  286456.4,  399465.5,\n",
       "         512474.6,  625483.7,  738492.8,  851501.9,  964511. ]),\n",
       " <a list of 10 Patch objects>)"
      ]
     },
     "execution_count": 71,
     "metadata": {},
     "output_type": "execute_result"
    },
    {
     "data": {
      "image/png": "[encoded data removed]",
      "text/plain": [
       "<Figure size 576x396 with 1 Axes>"
      ]
     },
     "metadata": {},
     "output_type": "display_data"
    }
   ],
   "source": [
    "plt.hist(credit['BILL_AMT1'])"
   ]
  },
  {
   "cell_type": "markdown",
   "metadata": {},
   "source": [
    "###### Plot a histogram for bill_amt2"
   ]
  },
  {
   "cell_type": "code",
   "execution_count": 72,
   "metadata": {},
   "outputs": [
    {
     "data": {
      "text/plain": [
       "(array([1.8123e+04, 9.0400e+03, 2.0380e+03, 5.3400e+02, 1.9000e+02,\n",
       "        6.2000e+01, 1.0000e+01, 2.0000e+00, 0.0000e+00, 1.0000e+00]),\n",
       " array([-69777. ,  35593.8, 140964.6, 246335.4, 351706.2, 457077. ,\n",
       "        562447.8, 667818.6, 773189.4, 878560.2, 983931. ]),\n",
       " <a list of 10 Patch objects>)"
      ]
     },
     "execution_count": 72,
     "metadata": {},
     "output_type": "execute_result"
    },
    {
     "data": {
      "image/png": "[encoded data removed]",
      "text/plain": [
       "<Figure size 576x396 with 1 Axes>"
      ]
     },
     "metadata": {},
     "output_type": "display_data"
    }
   ],
   "source": [
    "plt.hist(credit['BILL_AMT2'])"
   ]
  },
  {
   "cell_type": "markdown",
   "metadata": {},
   "source": [
    "###### Plot a histogram for bill_amt3"
   ]
  },
  {
   "cell_type": "code",
   "execution_count": 73,
   "metadata": {},
   "outputs": [
    {
     "data": {
      "text/plain": [
       "(array([1.6188e+04, 1.2676e+04, 9.8500e+02, 1.4000e+02, 9.0000e+00,\n",
       "        1.0000e+00, 0.0000e+00, 0.0000e+00, 0.0000e+00, 1.0000e+00]),\n",
       " array([-157264. ,   24871.3,  207006.6,  389141.9,  571277.2,  753412.5,\n",
       "         935547.8, 1117683.1, 1299818.4, 1481953.7, 1664089. ]),\n",
       " <a list of 10 Patch objects>)"
      ]
     },
     "execution_count": 73,
     "metadata": {},
     "output_type": "execute_result"
    },
    {
     "data": {
      "image/png": "[encoded data removed]",
      "text/plain": [
       "<Figure size 576x396 with 1 Axes>"
      ]
     },
     "metadata": {},
     "output_type": "display_data"
    }
   ],
   "source": [
    "plt.hist(credit['BILL_AMT3'])"
   ]
  },
  {
   "cell_type": "markdown",
   "metadata": {},
   "source": [
    "###### Is there any correlation between BILL_AMT_0 through BILL_AMT_6 values. The correlation matrix reveals a high correlation between each other"
   ]
  },
  {
   "cell_type": "code",
   "execution_count": 74,
   "metadata": {},
   "outputs": [
    {
     "data": {
      "text/html": [
       "<div>\n",
       "<style scoped>\n",
       "    .dataframe tbody tr th:only-of-type {\n",
       "        vertical-align: middle;\n",
       "    }\n",
       "\n",
       "    .dataframe tbody tr th {\n",
       "        vertical-align: top;\n",
       "    }\n",
       "\n",
       "    .dataframe thead th {\n",
       "        text-align: right;\n",
       "    }\n",
       "</style>\n",
       "<table border=\"1\" class=\"dataframe\">\n",
       "  <thead>\n",
       "    <tr style=\"text-align: right;\">\n",
       "      <th></th>\n",
       "      <th>BILL_AMT1</th>\n",
       "      <th>BILL_AMT2</th>\n",
       "      <th>BILL_AMT3</th>\n",
       "      <th>BILL_AMT4</th>\n",
       "      <th>BILL_AMT5</th>\n",
       "      <th>BILL_AMT6</th>\n",
       "    </tr>\n",
       "  </thead>\n",
       "  <tbody>\n",
       "    <tr>\n",
       "      <th>BILL_AMT1</th>\n",
       "      <td>1.000000</td>\n",
       "      <td>0.951484</td>\n",
       "      <td>0.892279</td>\n",
       "      <td>0.860272</td>\n",
       "      <td>0.829779</td>\n",
       "      <td>0.802650</td>\n",
       "    </tr>\n",
       "    <tr>\n",
       "      <th>BILL_AMT2</th>\n",
       "      <td>0.951484</td>\n",
       "      <td>1.000000</td>\n",
       "      <td>0.928326</td>\n",
       "      <td>0.892482</td>\n",
       "      <td>0.859778</td>\n",
       "      <td>0.831594</td>\n",
       "    </tr>\n",
       "    <tr>\n",
       "      <th>BILL_AMT3</th>\n",
       "      <td>0.892279</td>\n",
       "      <td>0.928326</td>\n",
       "      <td>1.000000</td>\n",
       "      <td>0.923969</td>\n",
       "      <td>0.883910</td>\n",
       "      <td>0.853320</td>\n",
       "    </tr>\n",
       "    <tr>\n",
       "      <th>BILL_AMT4</th>\n",
       "      <td>0.860272</td>\n",
       "      <td>0.892482</td>\n",
       "      <td>0.923969</td>\n",
       "      <td>1.000000</td>\n",
       "      <td>0.940134</td>\n",
       "      <td>0.900941</td>\n",
       "    </tr>\n",
       "    <tr>\n",
       "      <th>BILL_AMT5</th>\n",
       "      <td>0.829779</td>\n",
       "      <td>0.859778</td>\n",
       "      <td>0.883910</td>\n",
       "      <td>0.940134</td>\n",
       "      <td>1.000000</td>\n",
       "      <td>0.946197</td>\n",
       "    </tr>\n",
       "    <tr>\n",
       "      <th>BILL_AMT6</th>\n",
       "      <td>0.802650</td>\n",
       "      <td>0.831594</td>\n",
       "      <td>0.853320</td>\n",
       "      <td>0.900941</td>\n",
       "      <td>0.946197</td>\n",
       "      <td>1.000000</td>\n",
       "    </tr>\n",
       "  </tbody>\n",
       "</table>\n",
       "</div>"
      ],
      "text/plain": [
       "           BILL_AMT1  BILL_AMT2  BILL_AMT3  BILL_AMT4  BILL_AMT5  BILL_AMT6\n",
       "BILL_AMT1   1.000000   0.951484   0.892279   0.860272   0.829779   0.802650\n",
       "BILL_AMT2   0.951484   1.000000   0.928326   0.892482   0.859778   0.831594\n",
       "BILL_AMT3   0.892279   0.928326   1.000000   0.923969   0.883910   0.853320\n",
       "BILL_AMT4   0.860272   0.892482   0.923969   1.000000   0.940134   0.900941\n",
       "BILL_AMT5   0.829779   0.859778   0.883910   0.940134   1.000000   0.946197\n",
       "BILL_AMT6   0.802650   0.831594   0.853320   0.900941   0.946197   1.000000"
      ]
     },
     "execution_count": 74,
     "metadata": {},
     "output_type": "execute_result"
    }
   ],
   "source": [
    "credit.corr().iloc[10:16, 10:16]"
   ]
  },
  {
   "cell_type": "markdown",
   "metadata": {},
   "source": [
    "###### Plot a Heatmap"
   ]
  },
  {
   "cell_type": "code",
   "execution_count": 75,
   "metadata": {},
   "outputs": [
    {
     "data": {
      "text/plain": [
       "Text(0.5, 1.0, 'Correlation Heatmap')"
      ]
     },
     "execution_count": 75,
     "metadata": {},
     "output_type": "execute_result"
    },
    {
     "data": {
      "image/png": "[encoded data removed]",
      "text/plain": [
       "<Figure size 576x396 with 2 Axes>"
      ]
     },
     "metadata": {},
     "output_type": "display_data"
    }
   ],
   "source": [
    "sns.heatmap(credit.corr().iloc[10:16, 10:16], linewidths = .5, annot = True)\n",
    "plt.title('Correlation Heatmap')"
   ]
  },
  {
   "cell_type": "markdown",
   "metadata": {},
   "source": [
    "#### Feature: PAY_AMT1 to PAY_AMT6"
   ]
  },
  {
   "cell_type": "markdown",
   "metadata": {},
   "source": [
    "###### Plot a histogram for pay_amt1"
   ]
  },
  {
   "cell_type": "code",
   "execution_count": 76,
   "metadata": {},
   "outputs": [
    {
     "data": {
      "text/plain": [
       "(array([2.9802e+04, 1.4200e+02, 4.1000e+01, 9.0000e+00, 3.0000e+00,\n",
       "        2.0000e+00, 0.0000e+00, 0.0000e+00, 0.0000e+00, 1.0000e+00]),\n",
       " array([     0. ,  87355.2, 174710.4, 262065.6, 349420.8, 436776. ,\n",
       "        524131.2, 611486.4, 698841.6, 786196.8, 873552. ]),\n",
       " <a list of 10 Patch objects>)"
      ]
     },
     "execution_count": 76,
     "metadata": {},
     "output_type": "execute_result"
    },
    {
     "data": {
      "image/png": "[encoded data removed]",
      "text/plain": [
       "<Figure size 576x396 with 1 Axes>"
      ]
     },
     "metadata": {},
     "output_type": "display_data"
    }
   ],
   "source": [
    "plt.hist(credit['PAY_AMT1'])"
   ]
  },
  {
   "cell_type": "markdown",
   "metadata": {},
   "source": [
    "###### Plot a histogram for pay_amt2"
   ]
  },
  {
   "cell_type": "code",
   "execution_count": 77,
   "metadata": {},
   "outputs": [
    {
     "data": {
      "text/plain": [
       "(array([2.992e+04, 6.400e+01, 1.100e+01, 1.000e+00, 0.000e+00, 0.000e+00,\n",
       "        1.000e+00, 2.000e+00, 0.000e+00, 1.000e+00]),\n",
       " array([      0. ,  168425.9,  336851.8,  505277.7,  673703.6,  842129.5,\n",
       "        1010555.4, 1178981.3, 1347407.2, 1515833.1, 1684259. ]),\n",
       " <a list of 10 Patch objects>)"
      ]
     },
     "execution_count": 77,
     "metadata": {},
     "output_type": "execute_result"
    },
    {
     "data": {
      "image/png": "[encoded data removed]",
      "text/plain": [
       "<Figure size 576x396 with 1 Axes>"
      ]
     },
     "metadata": {},
     "output_type": "display_data"
    }
   ],
   "source": [
    "plt.hist(credit['PAY_AMT2'])"
   ]
  },
  {
   "cell_type": "markdown",
   "metadata": {},
   "source": [
    "###### Plot a histogram for pay_amt3"
   ]
  },
  {
   "cell_type": "code",
   "execution_count": 78,
   "metadata": {},
   "outputs": [
    {
     "data": {
      "text/plain": [
       "(array([2.9779e+04, 1.7200e+02, 2.9000e+01, 1.2000e+01, 5.0000e+00,\n",
       "        1.0000e+00, 0.0000e+00, 0.0000e+00, 0.0000e+00, 2.0000e+00]),\n",
       " array([     0.,  89604., 179208., 268812., 358416., 448020., 537624.,\n",
       "        627228., 716832., 806436., 896040.]),\n",
       " <a list of 10 Patch objects>)"
      ]
     },
     "execution_count": 78,
     "metadata": {},
     "output_type": "execute_result"
    },
    {
     "data": {
      "image/png": "[encoded data removed]",
      "text/plain": [
       "<Figure size 576x396 with 1 Axes>"
      ]
     },
     "metadata": {},
     "output_type": "display_data"
    }
   ],
   "source": [
    "plt.hist(credit['PAY_AMT3'])"
   ]
  },
  {
   "cell_type": "markdown",
   "metadata": {},
   "source": [
    "###### Is there any correlation between PAY_AMT_0 through PAY_AMT_6 values. The correlation matrix reveals a low correlation between each other"
   ]
  },
  {
   "cell_type": "code",
   "execution_count": 79,
   "metadata": {},
   "outputs": [
    {
     "data": {
      "text/html": [
       "<div>\n",
       "<style scoped>\n",
       "    .dataframe tbody tr th:only-of-type {\n",
       "        vertical-align: middle;\n",
       "    }\n",
       "\n",
       "    .dataframe tbody tr th {\n",
       "        vertical-align: top;\n",
       "    }\n",
       "\n",
       "    .dataframe thead th {\n",
       "        text-align: right;\n",
       "    }\n",
       "</style>\n",
       "<table border=\"1\" class=\"dataframe\">\n",
       "  <thead>\n",
       "    <tr style=\"text-align: right;\">\n",
       "      <th></th>\n",
       "      <th>PAY_AMT1</th>\n",
       "      <th>PAY_AMT2</th>\n",
       "      <th>PAY_AMT3</th>\n",
       "      <th>PAY_AMT4</th>\n",
       "      <th>PAY_AMT5</th>\n",
       "      <th>PAY_AMT6</th>\n",
       "    </tr>\n",
       "  </thead>\n",
       "  <tbody>\n",
       "    <tr>\n",
       "      <th>PAY_AMT1</th>\n",
       "      <td>1.000000</td>\n",
       "      <td>0.285576</td>\n",
       "      <td>0.252191</td>\n",
       "      <td>0.199558</td>\n",
       "      <td>0.148459</td>\n",
       "      <td>0.185735</td>\n",
       "    </tr>\n",
       "    <tr>\n",
       "      <th>PAY_AMT2</th>\n",
       "      <td>0.285576</td>\n",
       "      <td>1.000000</td>\n",
       "      <td>0.244770</td>\n",
       "      <td>0.180107</td>\n",
       "      <td>0.180908</td>\n",
       "      <td>0.157634</td>\n",
       "    </tr>\n",
       "    <tr>\n",
       "      <th>PAY_AMT3</th>\n",
       "      <td>0.252191</td>\n",
       "      <td>0.244770</td>\n",
       "      <td>1.000000</td>\n",
       "      <td>0.216325</td>\n",
       "      <td>0.159214</td>\n",
       "      <td>0.162740</td>\n",
       "    </tr>\n",
       "    <tr>\n",
       "      <th>PAY_AMT4</th>\n",
       "      <td>0.199558</td>\n",
       "      <td>0.180107</td>\n",
       "      <td>0.216325</td>\n",
       "      <td>1.000000</td>\n",
       "      <td>0.151830</td>\n",
       "      <td>0.157834</td>\n",
       "    </tr>\n",
       "    <tr>\n",
       "      <th>PAY_AMT5</th>\n",
       "      <td>0.148459</td>\n",
       "      <td>0.180908</td>\n",
       "      <td>0.159214</td>\n",
       "      <td>0.151830</td>\n",
       "      <td>1.000000</td>\n",
       "      <td>0.154896</td>\n",
       "    </tr>\n",
       "    <tr>\n",
       "      <th>PAY_AMT6</th>\n",
       "      <td>0.185735</td>\n",
       "      <td>0.157634</td>\n",
       "      <td>0.162740</td>\n",
       "      <td>0.157834</td>\n",
       "      <td>0.154896</td>\n",
       "      <td>1.000000</td>\n",
       "    </tr>\n",
       "  </tbody>\n",
       "</table>\n",
       "</div>"
      ],
      "text/plain": [
       "          PAY_AMT1  PAY_AMT2  PAY_AMT3  PAY_AMT4  PAY_AMT5  PAY_AMT6\n",
       "PAY_AMT1  1.000000  0.285576  0.252191  0.199558  0.148459  0.185735\n",
       "PAY_AMT2  0.285576  1.000000  0.244770  0.180107  0.180908  0.157634\n",
       "PAY_AMT3  0.252191  0.244770  1.000000  0.216325  0.159214  0.162740\n",
       "PAY_AMT4  0.199558  0.180107  0.216325  1.000000  0.151830  0.157834\n",
       "PAY_AMT5  0.148459  0.180908  0.159214  0.151830  1.000000  0.154896\n",
       "PAY_AMT6  0.185735  0.157634  0.162740  0.157834  0.154896  1.000000"
      ]
     },
     "execution_count": 79,
     "metadata": {},
     "output_type": "execute_result"
    }
   ],
   "source": [
    "credit.corr().iloc[16:22, 16:22]"
   ]
  },
  {
   "cell_type": "markdown",
   "metadata": {},
   "source": [
    "###### Plot a Heatmap"
   ]
  },
  {
   "cell_type": "code",
   "execution_count": 80,
   "metadata": {},
   "outputs": [
    {
     "data": {
      "text/plain": [
       "Text(0.5, 1.0, 'Correlation Heatmap')"
      ]
     },
     "execution_count": 80,
     "metadata": {},
     "output_type": "execute_result"
    },
    {
     "data": {
      "image/png": "[encoded data removed]",
      "text/plain": [
       "<Figure size 576x396 with 2 Axes>"
      ]
     },
     "metadata": {},
     "output_type": "display_data"
    }
   ],
   "source": [
    "sns.heatmap(credit.corr().iloc[16:22, 16:22], linewidths = .5, annot = True)\n",
    "plt.title('Correlation Heatmap')"
   ]
  },
  {
   "cell_type": "code",
   "execution_count": null,
   "metadata": {},
   "outputs": [],
   "source": []
  },
  {
   "cell_type": "markdown",
   "metadata": {},
   "source": [
    "#### Feature: BILL_AMT1 and PAY_AMT1"
   ]
  },
  {
   "cell_type": "markdown",
   "metadata": {},
   "source": [
    "###### Get the min/max/mean for each feature"
   ]
  },
  {
   "cell_type": "code",
   "execution_count": 81,
   "metadata": {},
   "outputs": [
    {
     "data": {
      "text/plain": [
       "count     30000.000000\n",
       "mean      51223.330900\n",
       "std       73635.860576\n",
       "min     -165580.000000\n",
       "25%        3558.750000\n",
       "50%       22381.500000\n",
       "75%       67091.000000\n",
       "max      964511.000000\n",
       "Name: BILL_AMT1, dtype: float64"
      ]
     },
     "execution_count": 81,
     "metadata": {},
     "output_type": "execute_result"
    }
   ],
   "source": [
    "credit.BILL_AMT1.describe()"
   ]
  },
  {
   "cell_type": "code",
   "execution_count": 82,
   "metadata": {},
   "outputs": [
    {
     "data": {
      "text/plain": [
       "count     30000.000000\n",
       "mean       5663.580500\n",
       "std       16563.280354\n",
       "min           0.000000\n",
       "25%        1000.000000\n",
       "50%        2100.000000\n",
       "75%        5006.000000\n",
       "max      873552.000000\n",
       "Name: PAY_AMT1, dtype: float64"
      ]
     },
     "execution_count": 82,
     "metadata": {},
     "output_type": "execute_result"
    }
   ],
   "source": [
    "credit.PAY_AMT1.describe()"
   ]
  },
  {
   "cell_type": "markdown",
   "metadata": {},
   "source": [
    "###### draw a line plot to compare  bill_amt1 against pay_amt1 to see how much a customer is billed and how much is paid"
   ]
  },
  {
   "cell_type": "code",
   "execution_count": 83,
   "metadata": {},
   "outputs": [
    {
     "data": {
      "text/plain": [
       "[<matplotlib.lines.Line2D at 0x1da5f38a3a0>]"
      ]
     },
     "execution_count": 83,
     "metadata": {},
     "output_type": "execute_result"
    },
    {
     "data": {
      "image/png": "[encoded data removed]",
      "text/plain": [
       "<Figure size 1152x576 with 1 Axes>"
      ]
     },
     "metadata": {},
     "output_type": "display_data"
    }
   ],
   "source": [
    "# draw a line plot \n",
    "plt.figure( figsize = (16, 8))\n",
    "plt.plot(credit['ID'], credit['BILL_AMT1'], color='tab:blue')\n",
    "plt.plot(credit['ID'], credit['PAY_AMT1'], color='tab:green')"
   ]
  },
  {
   "cell_type": "markdown",
   "metadata": {},
   "source": [
    "#### Feature: default payment next month - dependant variable"
   ]
  },
  {
   "cell_type": "markdown",
   "metadata": {},
   "source": [
    "###### Plot a histogram"
   ]
  },
  {
   "cell_type": "code",
   "execution_count": 84,
   "metadata": {},
   "outputs": [
    {
     "data": {
      "text/plain": [
       "(array([ 6636.,     0.,     0.,     0.,     0.,     0.,     0.,     0.,\n",
       "            0., 23364.]),\n",
       " array([0. , 0.1, 0.2, 0.3, 0.4, 0.5, 0.6, 0.7, 0.8, 0.9, 1. ]),\n",
       " <a list of 10 Patch objects>)"
      ]
     },
     "execution_count": 84,
     "metadata": {},
     "output_type": "execute_result"
    },
    {
     "data": {
      "image/png": "[encoded data removed]",
      "text/plain": [
       "<Figure size 576x396 with 1 Axes>"
      ]
     },
     "metadata": {},
     "output_type": "display_data"
    }
   ],
   "source": [
    "plt.hist(credit['default payment next month'])"
   ]
  },
  {
   "cell_type": "markdown",
   "metadata": {},
   "source": [
    "###### What is the default percentage"
   ]
  },
  {
   "cell_type": "code",
   "execution_count": 85,
   "metadata": {},
   "outputs": [
    {
     "data": {
      "text/plain": [
       "not default    77.88\n",
       "default        22.12\n",
       "Name: default payment next month, dtype: float64"
      ]
     },
     "execution_count": 85,
     "metadata": {},
     "output_type": "execute_result"
    }
   ],
   "source": [
    "credit['default payment next month'].value_counts()/30000 * 100"
   ]
  },
  {
   "cell_type": "code",
   "execution_count": 117,
   "metadata": {},
   "outputs": [
    {
     "data": {
      "image/png": "[encoded data removed]",
      "text/plain": [
       "<Figure size 288x360 with 1 Axes>"
      ]
     },
     "metadata": {},
     "output_type": "display_data"
    }
   ],
   "source": [
    "plt.figure(figsize=(4,5))\n",
    "fg = sns.countplot('default payment next month', data=credit)\n",
    "fg.set_title ('Distribution of customers across default behabior')\n",
    "total = len(credit['default payment next month'])\n",
    "\n",
    "for p in fg.patches:\n",
    "    percentage = '{:.1f}%'.format(100 * p.get_height()/total)\n",
    "    x = p.get_x() + p.get_width() / 2 - 0.05\n",
    "    y = p.get_y() + p.get_height()\n",
    "    fg.annotate(percentage, (x, y), size = 12)"
   ]
  },
  {
   "cell_type": "markdown",
   "metadata": {},
   "source": [
    "###### Since the EDA on Gender, Marital status and Education reveals that female customers are less likely to default that male customers, single customers are less likely to default that married or divorced customers, and customers with graduate education level are less likely to default that other education levels, examine the data for single female graduates, and conversely for divorced males with high-school education to see what default behavior looks across these two demographic groups"
   ]
  },
  {
   "cell_type": "code",
   "execution_count": 99,
   "metadata": {},
   "outputs": [
    {
     "data": {
      "text/plain": [
       "4176"
      ]
     },
     "execution_count": 99,
     "metadata": {},
     "output_type": "execute_result"
    }
   ],
   "source": [
    "# create a dataframe of single female graduates only, to examine default behavior for them\n",
    "credit_f = credit[(credit['SEX'] == 'female') \n",
    "                  & (credit['EDUCATION'] == 'graduate school')                  \n",
    "                  & (credit['MARRIAGE_LABEL'] == 'Single')]\n",
    "len(credit_f)"
   ]
  },
  {
   "cell_type": "code",
   "execution_count": 104,
   "metadata": {},
   "outputs": [
    {
     "data": {
      "text/plain": [
       "0"
      ]
     },
     "execution_count": 104,
     "metadata": {},
     "output_type": "execute_result"
    }
   ],
   "source": [
    "credit_f.isnull().any().sum()"
   ]
  },
  {
   "cell_type": "code",
   "execution_count": 106,
   "metadata": {},
   "outputs": [
    {
     "data": {
      "text/plain": [
       "not default    82.088123\n",
       "default        17.911877\n",
       "Name: default payment next month, dtype: float64"
      ]
     },
     "execution_count": 106,
     "metadata": {},
     "output_type": "execute_result"
    }
   ],
   "source": [
    "# what is the default behavior on this dataset?\n",
    "credit_f['default payment next month'].value_counts()/len(credit_f) * 100"
   ]
  },
  {
   "cell_type": "code",
   "execution_count": 126,
   "metadata": {},
   "outputs": [
    {
     "data": {
      "image/png": "[encoded data removed]",
      "text/plain": [
       "<Figure size 288x360 with 1 Axes>"
      ]
     },
     "metadata": {},
     "output_type": "display_data"
    }
   ],
   "source": [
    "plt.figure(figsize=(4,5))\n",
    "fg = sns.countplot('default payment next month', data=credit_f)\n",
    "fg.set_title ('Distribution of single graduate female customers across default behavior')\n",
    "total = len(credit_f['default payment next month'])\n",
    "for p in fg.patches:\n",
    "    percentage = '{:.1f}%'.format(100 * p.get_height()/total)\n",
    "    x = p.get_x() + p.get_width() / 2 - 0.05\n",
    "    y = p.get_y() + p.get_height()\n",
    "    fg.annotate(percentage, (x, y), size = 12)"
   ]
  },
  {
   "cell_type": "code",
   "execution_count": 122,
   "metadata": {},
   "outputs": [
    {
     "data": {
      "text/plain": [
       "1084"
      ]
     },
     "execution_count": 122,
     "metadata": {},
     "output_type": "execute_result"
    }
   ],
   "source": [
    "# create a dataframe of married or divorced males with high-school education only, to examine default behavior for them\n",
    "credit_m = credit[(credit['SEX'] == 'male') \n",
    "                  & (credit['EDUCATION'] == 'high school')                  \n",
    "                  & ((credit['MARRIAGE_LABEL'] == 'Married') | (credit['MARRIAGE_LABEL'] == 'Divorced')) ]\n",
    "len(credit_m)"
   ]
  },
  {
   "cell_type": "code",
   "execution_count": 123,
   "metadata": {},
   "outputs": [
    {
     "data": {
      "text/plain": [
       "0"
      ]
     },
     "execution_count": 123,
     "metadata": {},
     "output_type": "execute_result"
    }
   ],
   "source": [
    "credit_m.isnull().any().sum()"
   ]
  },
  {
   "cell_type": "code",
   "execution_count": 124,
   "metadata": {},
   "outputs": [
    {
     "data": {
      "text/plain": [
       "not default    71.03321\n",
       "default        28.96679\n",
       "Name: default payment next month, dtype: float64"
      ]
     },
     "execution_count": 124,
     "metadata": {},
     "output_type": "execute_result"
    }
   ],
   "source": [
    "# what is the default behavior on this dataset?\n",
    "credit_m['default payment next month'].value_counts()/len(credit_m) * 100"
   ]
  },
  {
   "cell_type": "code",
   "execution_count": 128,
   "metadata": {},
   "outputs": [
    {
     "data": {
      "image/png": "[encoded data removed]",
      "text/plain": [
       "<Figure size 288x360 with 1 Axes>"
      ]
     },
     "metadata": {},
     "output_type": "display_data"
    }
   ],
   "source": [
    "plt.figure(figsize=(4,5))\n",
    "fg = sns.countplot('default payment next month', data=credit_m)\n",
    "fg.set_title ('Distribution of married high school educated male customers across default behavior')\n",
    "total = len(credit_m['default payment next month'])\n",
    "for p in fg.patches:\n",
    "    percentage = '{:.1f}%'.format(100 * p.get_height()/total)\n",
    "    x = p.get_x() + p.get_width() / 2 - 0.05\n",
    "    y = p.get_y() + p.get_height()\n",
    "    fg.annotate(percentage, (x, y), size = 12)"
   ]
  },
  {
   "cell_type": "markdown",
   "metadata": {},
   "source": [
    "## Important Findings"
   ]
  },
  {
   "cell_type": "markdown",
   "metadata": {},
   "source": [
    "#### 1. Higher balances have a lower chance of defaulting"
   ]
  },
  {
   "cell_type": "markdown",
   "metadata": {},
   "source": [
    "#### 2. A higher percentage of male customers default compared to female customers"
   ]
  },
  {
   "cell_type": "markdown",
   "metadata": {},
   "source": [
    "#### 3. Customers with graduate school education level default the least, followed by university graduates, followed by highschool graduates - who default the highest. The data reveals -  higher the education level, lower the chance of defaulting."
   ]
  },
  {
   "cell_type": "markdown",
   "metadata": {},
   "source": [
    "#### 4. Divorced customers are most likely to default followed by married customers followed by single customers"
   ]
  },
  {
   "cell_type": "markdown",
   "metadata": {},
   "source": [
    "#### 5. Customers above 50 years of age are more likely to default than other age groups"
   ]
  },
  {
   "cell_type": "markdown",
   "metadata": {},
   "source": [
    "#### 6. Customers who default the most are those with revolving credit, or those with 1-3 months behind on their payments"
   ]
  },
  {
   "cell_type": "markdown",
   "metadata": {},
   "source": [
    "#### 7. There is a fairly good correlation between each of the different PAY_0 to PAY 6 features (between .47 to .82)"
   ]
  },
  {
   "cell_type": "markdown",
   "metadata": {},
   "source": [
    "#### 8. There is a high correlation between the various BILL_AMT1 to BILL_AMT6, (between .83 to .95) If one goes up, the other does too. This indicates that the bill amount for a customer across 6 months remains more or less the same"
   ]
  },
  {
   "cell_type": "markdown",
   "metadata": {},
   "source": [
    "#### 9. Overall about 22.12% of the customers default in next month's payment"
   ]
  },
  {
   "cell_type": "markdown",
   "metadata": {},
   "source": [
    "#### 10. Single female customers with graduate level education seem to default much less compared to married or divorced male customers with a high school education level."
   ]
  },
  {
   "cell_type": "code",
   "execution_count": null,
   "metadata": {},
   "outputs": [],
   "source": []
  }
 ],
 "metadata": {
  "kernelspec": {
   "display_name": "Python 3",
   "language": "python",
   "name": "python3"
  },
  "language_info": {
   "codemirror_mode": {
    "name": "ipython",
    "version": 3
   },
   "file_extension": ".py",
   "mimetype": "text/x-python",
   "name": "python",
   "nbconvert_exporter": "python",
   "pygments_lexer": "ipython3",
   "version": "3.8.3"
  }
 },
 "nbformat": 4,
 "nbformat_minor": 4
}
